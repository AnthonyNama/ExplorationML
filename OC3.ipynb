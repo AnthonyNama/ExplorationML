{
 "cells": [
  {
   "cell_type": "code",
   "execution_count": 1,
   "metadata": {},
   "outputs": [],
   "source": [
    "import ast\n",
    "import time\n",
    "import numpy as np\n",
    "import pandas as pd\n",
    "import seaborn as sns\n",
    "from sklearn.svm import SVR\n",
    "from scipy.stats import norm\n",
    "import category_encoders as ce\n",
    "import matplotlib.pyplot as plt\n",
    "from sklearn.pipeline import Pipeline\n",
    "from sklearn.impute import SimpleImputer\n",
    "from sklearn.feature_selection import RFE\n",
    "from wordcloud import WordCloud, STOPWORDS\n",
    "from sklearn.linear_model import Lasso, Ridge\n",
    "from sklearn.compose import ColumnTransformer\n",
    "from sklearn.feature_selection import SelectFromModel\n",
    "from sklearn.model_selection import train_test_split, learning_curve\n",
    "from sklearn.preprocessing import OneHotEncoder, LabelEncoder, StandardScaler\n",
    "from sklearn import dummy, linear_model, metrics, preprocessing, model_selection\n",
    "from sklearn.ensemble import RandomForestRegressor, GradientBoostingRegressor, ExtraTreesRegressor"
   ]
  },
  {
   "cell_type": "code",
   "execution_count": 2,
   "metadata": {},
   "outputs": [],
   "source": [
    "donnees1 = pd.read_csv(\"2015-building-energy-benchmarking.csv\")\n",
    "donnees2 = pd.read_csv(\"2016-building-energy-benchmarking.csv\")"
   ]
  },
  {
   "cell_type": "code",
   "execution_count": 3,
   "metadata": {},
   "outputs": [
    {
     "data": {
      "text/plain": [
       "(3340, 47)"
      ]
     },
     "execution_count": 3,
     "metadata": {},
     "output_type": "execute_result"
    }
   ],
   "source": [
    "donnees1.shape"
   ]
  },
  {
   "cell_type": "code",
   "execution_count": 4,
   "metadata": {},
   "outputs": [
    {
     "data": {
      "text/html": [
       "<div>\n",
       "<style scoped>\n",
       "    .dataframe tbody tr th:only-of-type {\n",
       "        vertical-align: middle;\n",
       "    }\n",
       "\n",
       "    .dataframe tbody tr th {\n",
       "        vertical-align: top;\n",
       "    }\n",
       "\n",
       "    .dataframe thead th {\n",
       "        text-align: right;\n",
       "    }\n",
       "</style>\n",
       "<table border=\"1\" class=\"dataframe\">\n",
       "  <thead>\n",
       "    <tr style=\"text-align: right;\">\n",
       "      <th></th>\n",
       "      <th>OSEBuildingID</th>\n",
       "      <th>DataYear</th>\n",
       "      <th>BuildingType</th>\n",
       "      <th>PrimaryPropertyType</th>\n",
       "      <th>PropertyName</th>\n",
       "      <th>TaxParcelIdentificationNumber</th>\n",
       "      <th>Location</th>\n",
       "      <th>CouncilDistrictCode</th>\n",
       "      <th>Neighborhood</th>\n",
       "      <th>YearBuilt</th>\n",
       "      <th>...</th>\n",
       "      <th>GHGEmissionsIntensity(kgCO2e/ft2)</th>\n",
       "      <th>DefaultData</th>\n",
       "      <th>Comment</th>\n",
       "      <th>ComplianceStatus</th>\n",
       "      <th>Outlier</th>\n",
       "      <th>2010 Census Tracts</th>\n",
       "      <th>Seattle Police Department Micro Community Policing Plan Areas</th>\n",
       "      <th>City Council Districts</th>\n",
       "      <th>SPD Beats</th>\n",
       "      <th>Zip Codes</th>\n",
       "    </tr>\n",
       "  </thead>\n",
       "  <tbody>\n",
       "    <tr>\n",
       "      <th>0</th>\n",
       "      <td>1</td>\n",
       "      <td>2015</td>\n",
       "      <td>NonResidential</td>\n",
       "      <td>Hotel</td>\n",
       "      <td>MAYFLOWER PARK HOTEL</td>\n",
       "      <td>659000030</td>\n",
       "      <td>{'human_address': '{\"address\": \"405 OLIVE WAY\"...</td>\n",
       "      <td>7</td>\n",
       "      <td>DOWNTOWN</td>\n",
       "      <td>1927</td>\n",
       "      <td>...</td>\n",
       "      <td>2.64</td>\n",
       "      <td>No</td>\n",
       "      <td>NaN</td>\n",
       "      <td>Compliant</td>\n",
       "      <td>NaN</td>\n",
       "      <td>NaN</td>\n",
       "      <td>14.0</td>\n",
       "      <td>NaN</td>\n",
       "      <td>31.0</td>\n",
       "      <td>18081</td>\n",
       "    </tr>\n",
       "    <tr>\n",
       "      <th>1</th>\n",
       "      <td>2</td>\n",
       "      <td>2015</td>\n",
       "      <td>NonResidential</td>\n",
       "      <td>Hotel</td>\n",
       "      <td>PARAMOUNT HOTEL</td>\n",
       "      <td>659000220</td>\n",
       "      <td>{'human_address': '{\"address\": \"724 PINE ST\", ...</td>\n",
       "      <td>7</td>\n",
       "      <td>DOWNTOWN</td>\n",
       "      <td>1996</td>\n",
       "      <td>...</td>\n",
       "      <td>2.38</td>\n",
       "      <td>No</td>\n",
       "      <td>NaN</td>\n",
       "      <td>Compliant</td>\n",
       "      <td>NaN</td>\n",
       "      <td>NaN</td>\n",
       "      <td>14.0</td>\n",
       "      <td>NaN</td>\n",
       "      <td>31.0</td>\n",
       "      <td>18081</td>\n",
       "    </tr>\n",
       "    <tr>\n",
       "      <th>2</th>\n",
       "      <td>3</td>\n",
       "      <td>2015</td>\n",
       "      <td>NonResidential</td>\n",
       "      <td>Hotel</td>\n",
       "      <td>WESTIN HOTEL</td>\n",
       "      <td>659000475</td>\n",
       "      <td>{'human_address': '{\"address\": \"1900 5TH AVE\",...</td>\n",
       "      <td>7</td>\n",
       "      <td>DOWNTOWN</td>\n",
       "      <td>1969</td>\n",
       "      <td>...</td>\n",
       "      <td>1.92</td>\n",
       "      <td>Yes</td>\n",
       "      <td>NaN</td>\n",
       "      <td>Compliant</td>\n",
       "      <td>NaN</td>\n",
       "      <td>NaN</td>\n",
       "      <td>56.0</td>\n",
       "      <td>NaN</td>\n",
       "      <td>31.0</td>\n",
       "      <td>18081</td>\n",
       "    </tr>\n",
       "    <tr>\n",
       "      <th>3</th>\n",
       "      <td>5</td>\n",
       "      <td>2015</td>\n",
       "      <td>NonResidential</td>\n",
       "      <td>Hotel</td>\n",
       "      <td>HOTEL MAX</td>\n",
       "      <td>659000640</td>\n",
       "      <td>{'human_address': '{\"address\": \"620 STEWART ST...</td>\n",
       "      <td>7</td>\n",
       "      <td>DOWNTOWN</td>\n",
       "      <td>1926</td>\n",
       "      <td>...</td>\n",
       "      <td>31.38</td>\n",
       "      <td>No</td>\n",
       "      <td>NaN</td>\n",
       "      <td>Compliant</td>\n",
       "      <td>High Outlier</td>\n",
       "      <td>NaN</td>\n",
       "      <td>56.0</td>\n",
       "      <td>NaN</td>\n",
       "      <td>31.0</td>\n",
       "      <td>18081</td>\n",
       "    </tr>\n",
       "    <tr>\n",
       "      <th>4</th>\n",
       "      <td>8</td>\n",
       "      <td>2015</td>\n",
       "      <td>NonResidential</td>\n",
       "      <td>Hotel</td>\n",
       "      <td>WARWICK SEATTLE HOTEL</td>\n",
       "      <td>659000970</td>\n",
       "      <td>{'human_address': '{\"address\": \"401 LENORA ST\"...</td>\n",
       "      <td>7</td>\n",
       "      <td>DOWNTOWN</td>\n",
       "      <td>1980</td>\n",
       "      <td>...</td>\n",
       "      <td>4.02</td>\n",
       "      <td>No</td>\n",
       "      <td>NaN</td>\n",
       "      <td>Compliant</td>\n",
       "      <td>NaN</td>\n",
       "      <td>NaN</td>\n",
       "      <td>56.0</td>\n",
       "      <td>NaN</td>\n",
       "      <td>31.0</td>\n",
       "      <td>19576</td>\n",
       "    </tr>\n",
       "  </tbody>\n",
       "</table>\n",
       "<p>5 rows × 47 columns</p>\n",
       "</div>"
      ],
      "text/plain": [
       "   OSEBuildingID  DataYear    BuildingType PrimaryPropertyType  \\\n",
       "0              1      2015  NonResidential               Hotel   \n",
       "1              2      2015  NonResidential               Hotel   \n",
       "2              3      2015  NonResidential               Hotel   \n",
       "3              5      2015  NonResidential               Hotel   \n",
       "4              8      2015  NonResidential               Hotel   \n",
       "\n",
       "            PropertyName TaxParcelIdentificationNumber  \\\n",
       "0   MAYFLOWER PARK HOTEL                     659000030   \n",
       "1        PARAMOUNT HOTEL                     659000220   \n",
       "2           WESTIN HOTEL                     659000475   \n",
       "3              HOTEL MAX                     659000640   \n",
       "4  WARWICK SEATTLE HOTEL                     659000970   \n",
       "\n",
       "                                            Location  CouncilDistrictCode  \\\n",
       "0  {'human_address': '{\"address\": \"405 OLIVE WAY\"...                    7   \n",
       "1  {'human_address': '{\"address\": \"724 PINE ST\", ...                    7   \n",
       "2  {'human_address': '{\"address\": \"1900 5TH AVE\",...                    7   \n",
       "3  {'human_address': '{\"address\": \"620 STEWART ST...                    7   \n",
       "4  {'human_address': '{\"address\": \"401 LENORA ST\"...                    7   \n",
       "\n",
       "  Neighborhood  YearBuilt  ...  GHGEmissionsIntensity(kgCO2e/ft2)  \\\n",
       "0     DOWNTOWN       1927  ...                               2.64   \n",
       "1     DOWNTOWN       1996  ...                               2.38   \n",
       "2     DOWNTOWN       1969  ...                               1.92   \n",
       "3     DOWNTOWN       1926  ...                              31.38   \n",
       "4     DOWNTOWN       1980  ...                               4.02   \n",
       "\n",
       "   DefaultData  Comment  ComplianceStatus       Outlier 2010 Census Tracts  \\\n",
       "0           No      NaN         Compliant           NaN                NaN   \n",
       "1           No      NaN         Compliant           NaN                NaN   \n",
       "2          Yes      NaN         Compliant           NaN                NaN   \n",
       "3           No      NaN         Compliant  High Outlier                NaN   \n",
       "4           No      NaN         Compliant           NaN                NaN   \n",
       "\n",
       "  Seattle Police Department Micro Community Policing Plan Areas  \\\n",
       "0                                               14.0              \n",
       "1                                               14.0              \n",
       "2                                               56.0              \n",
       "3                                               56.0              \n",
       "4                                               56.0              \n",
       "\n",
       "   City Council Districts SPD Beats  Zip Codes  \n",
       "0                     NaN      31.0      18081  \n",
       "1                     NaN      31.0      18081  \n",
       "2                     NaN      31.0      18081  \n",
       "3                     NaN      31.0      18081  \n",
       "4                     NaN      31.0      19576  \n",
       "\n",
       "[5 rows x 47 columns]"
      ]
     },
     "execution_count": 4,
     "metadata": {},
     "output_type": "execute_result"
    }
   ],
   "source": [
    "donnees1.head()"
   ]
  },
  {
   "cell_type": "code",
   "execution_count": 5,
   "metadata": {},
   "outputs": [
    {
     "data": {
      "text/plain": [
       "(3376, 46)"
      ]
     },
     "execution_count": 5,
     "metadata": {},
     "output_type": "execute_result"
    }
   ],
   "source": [
    "donnees2.shape"
   ]
  },
  {
   "cell_type": "code",
   "execution_count": 6,
   "metadata": {},
   "outputs": [
    {
     "data": {
      "text/html": [
       "<div>\n",
       "<style scoped>\n",
       "    .dataframe tbody tr th:only-of-type {\n",
       "        vertical-align: middle;\n",
       "    }\n",
       "\n",
       "    .dataframe tbody tr th {\n",
       "        vertical-align: top;\n",
       "    }\n",
       "\n",
       "    .dataframe thead th {\n",
       "        text-align: right;\n",
       "    }\n",
       "</style>\n",
       "<table border=\"1\" class=\"dataframe\">\n",
       "  <thead>\n",
       "    <tr style=\"text-align: right;\">\n",
       "      <th></th>\n",
       "      <th>OSEBuildingID</th>\n",
       "      <th>DataYear</th>\n",
       "      <th>BuildingType</th>\n",
       "      <th>PrimaryPropertyType</th>\n",
       "      <th>PropertyName</th>\n",
       "      <th>Address</th>\n",
       "      <th>City</th>\n",
       "      <th>State</th>\n",
       "      <th>ZipCode</th>\n",
       "      <th>TaxParcelIdentificationNumber</th>\n",
       "      <th>...</th>\n",
       "      <th>Electricity(kWh)</th>\n",
       "      <th>Electricity(kBtu)</th>\n",
       "      <th>NaturalGas(therms)</th>\n",
       "      <th>NaturalGas(kBtu)</th>\n",
       "      <th>DefaultData</th>\n",
       "      <th>Comments</th>\n",
       "      <th>ComplianceStatus</th>\n",
       "      <th>Outlier</th>\n",
       "      <th>TotalGHGEmissions</th>\n",
       "      <th>GHGEmissionsIntensity</th>\n",
       "    </tr>\n",
       "  </thead>\n",
       "  <tbody>\n",
       "    <tr>\n",
       "      <th>0</th>\n",
       "      <td>1</td>\n",
       "      <td>2016</td>\n",
       "      <td>NonResidential</td>\n",
       "      <td>Hotel</td>\n",
       "      <td>Mayflower park hotel</td>\n",
       "      <td>405 Olive way</td>\n",
       "      <td>Seattle</td>\n",
       "      <td>WA</td>\n",
       "      <td>98101.0</td>\n",
       "      <td>0659000030</td>\n",
       "      <td>...</td>\n",
       "      <td>1.156514e+06</td>\n",
       "      <td>3946027.0</td>\n",
       "      <td>12764.52930</td>\n",
       "      <td>1276453.0</td>\n",
       "      <td>False</td>\n",
       "      <td>NaN</td>\n",
       "      <td>Compliant</td>\n",
       "      <td>NaN</td>\n",
       "      <td>249.98</td>\n",
       "      <td>2.83</td>\n",
       "    </tr>\n",
       "    <tr>\n",
       "      <th>1</th>\n",
       "      <td>2</td>\n",
       "      <td>2016</td>\n",
       "      <td>NonResidential</td>\n",
       "      <td>Hotel</td>\n",
       "      <td>Paramount Hotel</td>\n",
       "      <td>724 Pine street</td>\n",
       "      <td>Seattle</td>\n",
       "      <td>WA</td>\n",
       "      <td>98101.0</td>\n",
       "      <td>0659000220</td>\n",
       "      <td>...</td>\n",
       "      <td>9.504252e+05</td>\n",
       "      <td>3242851.0</td>\n",
       "      <td>51450.81641</td>\n",
       "      <td>5145082.0</td>\n",
       "      <td>False</td>\n",
       "      <td>NaN</td>\n",
       "      <td>Compliant</td>\n",
       "      <td>NaN</td>\n",
       "      <td>295.86</td>\n",
       "      <td>2.86</td>\n",
       "    </tr>\n",
       "    <tr>\n",
       "      <th>2</th>\n",
       "      <td>3</td>\n",
       "      <td>2016</td>\n",
       "      <td>NonResidential</td>\n",
       "      <td>Hotel</td>\n",
       "      <td>5673-The Westin Seattle</td>\n",
       "      <td>1900 5th Avenue</td>\n",
       "      <td>Seattle</td>\n",
       "      <td>WA</td>\n",
       "      <td>98101.0</td>\n",
       "      <td>0659000475</td>\n",
       "      <td>...</td>\n",
       "      <td>1.451544e+07</td>\n",
       "      <td>49526664.0</td>\n",
       "      <td>14938.00000</td>\n",
       "      <td>1493800.0</td>\n",
       "      <td>False</td>\n",
       "      <td>NaN</td>\n",
       "      <td>Compliant</td>\n",
       "      <td>NaN</td>\n",
       "      <td>2089.28</td>\n",
       "      <td>2.19</td>\n",
       "    </tr>\n",
       "    <tr>\n",
       "      <th>3</th>\n",
       "      <td>5</td>\n",
       "      <td>2016</td>\n",
       "      <td>NonResidential</td>\n",
       "      <td>Hotel</td>\n",
       "      <td>HOTEL MAX</td>\n",
       "      <td>620 STEWART ST</td>\n",
       "      <td>Seattle</td>\n",
       "      <td>WA</td>\n",
       "      <td>98101.0</td>\n",
       "      <td>0659000640</td>\n",
       "      <td>...</td>\n",
       "      <td>8.115253e+05</td>\n",
       "      <td>2768924.0</td>\n",
       "      <td>18112.13086</td>\n",
       "      <td>1811213.0</td>\n",
       "      <td>False</td>\n",
       "      <td>NaN</td>\n",
       "      <td>Compliant</td>\n",
       "      <td>NaN</td>\n",
       "      <td>286.43</td>\n",
       "      <td>4.67</td>\n",
       "    </tr>\n",
       "    <tr>\n",
       "      <th>4</th>\n",
       "      <td>8</td>\n",
       "      <td>2016</td>\n",
       "      <td>NonResidential</td>\n",
       "      <td>Hotel</td>\n",
       "      <td>WARWICK SEATTLE HOTEL (ID8)</td>\n",
       "      <td>401 LENORA ST</td>\n",
       "      <td>Seattle</td>\n",
       "      <td>WA</td>\n",
       "      <td>98121.0</td>\n",
       "      <td>0659000970</td>\n",
       "      <td>...</td>\n",
       "      <td>1.573449e+06</td>\n",
       "      <td>5368607.0</td>\n",
       "      <td>88039.98438</td>\n",
       "      <td>8803998.0</td>\n",
       "      <td>False</td>\n",
       "      <td>NaN</td>\n",
       "      <td>Compliant</td>\n",
       "      <td>NaN</td>\n",
       "      <td>505.01</td>\n",
       "      <td>2.88</td>\n",
       "    </tr>\n",
       "  </tbody>\n",
       "</table>\n",
       "<p>5 rows × 46 columns</p>\n",
       "</div>"
      ],
      "text/plain": [
       "   OSEBuildingID  DataYear    BuildingType PrimaryPropertyType  \\\n",
       "0              1      2016  NonResidential               Hotel   \n",
       "1              2      2016  NonResidential               Hotel   \n",
       "2              3      2016  NonResidential               Hotel   \n",
       "3              5      2016  NonResidential               Hotel   \n",
       "4              8      2016  NonResidential               Hotel   \n",
       "\n",
       "                  PropertyName          Address     City State  ZipCode  \\\n",
       "0         Mayflower park hotel    405 Olive way  Seattle    WA  98101.0   \n",
       "1              Paramount Hotel  724 Pine street  Seattle    WA  98101.0   \n",
       "2      5673-The Westin Seattle  1900 5th Avenue  Seattle    WA  98101.0   \n",
       "3                    HOTEL MAX   620 STEWART ST  Seattle    WA  98101.0   \n",
       "4  WARWICK SEATTLE HOTEL (ID8)    401 LENORA ST  Seattle    WA  98121.0   \n",
       "\n",
       "  TaxParcelIdentificationNumber  ...  Electricity(kWh) Electricity(kBtu)  \\\n",
       "0                    0659000030  ...      1.156514e+06         3946027.0   \n",
       "1                    0659000220  ...      9.504252e+05         3242851.0   \n",
       "2                    0659000475  ...      1.451544e+07        49526664.0   \n",
       "3                    0659000640  ...      8.115253e+05         2768924.0   \n",
       "4                    0659000970  ...      1.573449e+06         5368607.0   \n",
       "\n",
       "   NaturalGas(therms)  NaturalGas(kBtu)  DefaultData  Comments  \\\n",
       "0         12764.52930         1276453.0        False       NaN   \n",
       "1         51450.81641         5145082.0        False       NaN   \n",
       "2         14938.00000         1493800.0        False       NaN   \n",
       "3         18112.13086         1811213.0        False       NaN   \n",
       "4         88039.98438         8803998.0        False       NaN   \n",
       "\n",
       "   ComplianceStatus  Outlier  TotalGHGEmissions  GHGEmissionsIntensity  \n",
       "0         Compliant      NaN             249.98                   2.83  \n",
       "1         Compliant      NaN             295.86                   2.86  \n",
       "2         Compliant      NaN            2089.28                   2.19  \n",
       "3         Compliant      NaN             286.43                   4.67  \n",
       "4         Compliant      NaN             505.01                   2.88  \n",
       "\n",
       "[5 rows x 46 columns]"
      ]
     },
     "execution_count": 6,
     "metadata": {},
     "output_type": "execute_result"
    }
   ],
   "source": [
    "donnees2.head()"
   ]
  },
  {
   "cell_type": "code",
   "execution_count": 7,
   "metadata": {},
   "outputs": [
    {
     "name": "stdout",
     "output_type": "stream",
     "text": [
      "Location\n",
      "OtherFuelUse(kBtu)\n",
      "GHGEmissions(MetricTonsCO2e)\n",
      "GHGEmissionsIntensity(kgCO2e/ft2)\n",
      "Comment\n",
      "2010 Census Tracts\n",
      "Seattle Police Department Micro Community Policing Plan Areas\n",
      "City Council Districts\n",
      "SPD Beats\n",
      "Zip Codes\n",
      "----------\n",
      "Address\n",
      "City\n",
      "State\n",
      "ZipCode\n",
      "Latitude\n",
      "Longitude\n",
      "Comments\n",
      "TotalGHGEmissions\n",
      "GHGEmissionsIntensity\n"
     ]
    }
   ],
   "source": [
    "#détecter la colonne absente dans chacune des data\n",
    "for c in list(donnees1.columns):\n",
    "    if c not in list(donnees2.columns):\n",
    "        print(c)\n",
    "print(\"----------\")\n",
    "for c in list(donnees2.columns):\n",
    "    if c not in list(donnees1.columns):\n",
    "        print(c)"
   ]
  },
  {
   "cell_type": "code",
   "execution_count": 8,
   "metadata": {},
   "outputs": [],
   "source": [
    "#adapter les OSEBuildingID\n",
    "for i, row in donnees1.iterrows():\n",
    "    donnees1.loc[i, \"OSEBuildingID\"] = str(row[\"OSEBuildingID\"]) + \"_2015\"\n",
    "    \n",
    "for j, row in donnees2.iterrows():\n",
    "    donnees2.loc[j, \"OSEBuildingID\"] = str(row[\"OSEBuildingID\"]) + \"_2016\""
   ]
  },
  {
   "cell_type": "code",
   "execution_count": 9,
   "metadata": {},
   "outputs": [],
   "source": [
    "#Disloquer Location en adresse, cité, etc.\n",
    "locations = donnees1['Location']\n",
    "address = []\n",
    "city = []\n",
    "state = []\n",
    "longitude = []\n",
    "latitude = []\n",
    "zipCode = []\n",
    "for i in range(0, len(locations)):\n",
    "    location = ast.literal_eval(locations[i])\n",
    "    h_a = location['human_address']\n",
    "    h_a = ast.literal_eval(h_a)\n",
    "    address.append(h_a['address'])\n",
    "    city.append(h_a['city'])\n",
    "    state.append(h_a['state'])\n",
    "    zipCode.append(h_a['zip'])\n",
    "    longitude.append(location['longitude'])\n",
    "    latitude.append(location['latitude'])\n",
    "    \n",
    "donnees1['Address'] = pd.Series(address)\n",
    "donnees1['City'] = pd.Series(city)\n",
    "donnees1['State'] = pd.Series(state)\n",
    "donnees1['ZipCode'] = pd.Series(zipCode)\n",
    "donnees1['Longitude'] = pd.Series(longitude).astype('float')\n",
    "donnees1['Latitude'] = pd.Series(latitude).astype('float')"
   ]
  },
  {
   "cell_type": "code",
   "execution_count": 10,
   "metadata": {},
   "outputs": [],
   "source": [
    "#renommer pour normaliser à donnees2 certaines colonnes \n",
    "donnees1 = donnees1.rename(columns={\"Comment\" : \"Comments\", \"GHGEmissionsIntensity(kgCO2e/ft2)\" : \"GHGEmissionsIntensity\",\n",
    "                                    \"GHGEmissions(MetricTonsCO2e)\" : \"TotalGHGEmissions\"})"
   ]
  },
  {
   "cell_type": "code",
   "execution_count": 11,
   "metadata": {},
   "outputs": [
    {
     "name": "stdout",
     "output_type": "stream",
     "text": [
      "Colonnes supprimées ['DataYear', 'City', 'State']\n",
      "Colonnes supprimées ['DataYear', 'City', 'State']\n"
     ]
    }
   ],
   "source": [
    "#Supprimer les colonnes de valeurs constantes\n",
    "def del_var_const(data):\n",
    "    var_const = []\n",
    "    for f in list(data.columns):\n",
    "        if len(data[f].value_counts()) == 1:\n",
    "            data.drop(f, axis=1, inplace=True)\n",
    "            var_const.append(f)\n",
    "    print(\"Colonnes supprimées {}\".format(var_const))\n",
    "    \n",
    "del_var_const(donnees1)\n",
    "del_var_const(donnees2)"
   ]
  },
  {
   "cell_type": "code",
   "execution_count": 12,
   "metadata": {},
   "outputs": [],
   "source": [
    "donnees = pd.concat([donnees1, donnees2], axis=0, join='inner', ignore_index=True)#fusion"
   ]
  },
  {
   "cell_type": "code",
   "execution_count": 13,
   "metadata": {},
   "outputs": [
    {
     "data": {
      "text/plain": [
       "(6716, 43)"
      ]
     },
     "execution_count": 13,
     "metadata": {},
     "output_type": "execute_result"
    }
   ],
   "source": [
    "donnees.shape"
   ]
  },
  {
   "cell_type": "code",
   "execution_count": 14,
   "metadata": {},
   "outputs": [],
   "source": [
    "df = donnees.copy()"
   ]
  },
  {
   "cell_type": "code",
   "execution_count": 15,
   "metadata": {},
   "outputs": [
    {
     "data": {
      "text/plain": [
       "NonResidential          2921\n",
       "Multifamily LR (1-4)    2047\n",
       "Multifamily MR (5-9)    1134\n",
       "Multifamily HR (10+)     217\n",
       "SPS-District K-12        197\n",
       "Nonresidential COS       153\n",
       "Campus                    46\n",
       "Nonresidential WA          1\n",
       "Name: BuildingType, dtype: int64"
      ]
     },
     "execution_count": 15,
     "metadata": {},
     "output_type": "execute_result"
    }
   ],
   "source": [
    "df[\"BuildingType\"].value_counts()"
   ]
  },
  {
   "cell_type": "code",
   "execution_count": 16,
   "metadata": {},
   "outputs": [
    {
     "data": {
      "text/plain": [
       "(3318, 43)"
      ]
     },
     "execution_count": 16,
     "metadata": {},
     "output_type": "execute_result"
    }
   ],
   "source": [
    "#supprimer les batiments d'habitation\n",
    "indexLR = df[df[\"BuildingType\"] == \"Multifamily LR (1-4)\"].index\n",
    "indexMR = df[df[\"BuildingType\"] == \"Multifamily MR (5-9)\"].index\n",
    "indexHR = df[df[\"BuildingType\"] == \"Multifamily HR (10+)\"].index\n",
    "\n",
    "df.drop(indexLR, inplace = True)\n",
    "df.drop(indexMR, inplace = True)\n",
    "df.drop(indexHR, inplace = True)\n",
    "\n",
    "df.shape"
   ]
  },
  {
   "cell_type": "code",
   "execution_count": 17,
   "metadata": {},
   "outputs": [
    {
     "name": "stdout",
     "output_type": "stream",
     "text": [
      "Colonnes supprimées ['YearsENERGYSTARCertified', 'Comments', 'Outlier']\n"
     ]
    }
   ],
   "source": [
    "#suprimer les variables avec beaucoup de valeurs manquantes\n",
    "def del_var_useless(data, seuil=1):\n",
    "    var_useless = []\n",
    "    for f in list(data.columns):\n",
    "        if (data[f].isna().sum()/len(data)) >= seuil:\n",
    "            data.drop(f, axis=1, inplace=True)\n",
    "            var_useless.append(f)\n",
    "    print(\"Colonnes supprimées {}\".format(var_useless))\n",
    "\n",
    "del_var_useless(df, 0.9)"
   ]
  },
  {
   "cell_type": "code",
   "execution_count": 18,
   "metadata": {},
   "outputs": [
    {
     "data": {
      "text/html": [
       "<div>\n",
       "<style scoped>\n",
       "    .dataframe tbody tr th:only-of-type {\n",
       "        vertical-align: middle;\n",
       "    }\n",
       "\n",
       "    .dataframe tbody tr th {\n",
       "        vertical-align: top;\n",
       "    }\n",
       "\n",
       "    .dataframe thead th {\n",
       "        text-align: right;\n",
       "    }\n",
       "</style>\n",
       "<table border=\"1\" class=\"dataframe\">\n",
       "  <thead>\n",
       "    <tr style=\"text-align: right;\">\n",
       "      <th></th>\n",
       "      <th>OSEBuildingID</th>\n",
       "      <th>BuildingType</th>\n",
       "      <th>PrimaryPropertyType</th>\n",
       "      <th>PropertyName</th>\n",
       "      <th>TaxParcelIdentificationNumber</th>\n",
       "      <th>CouncilDistrictCode</th>\n",
       "      <th>Neighborhood</th>\n",
       "      <th>YearBuilt</th>\n",
       "      <th>NumberofBuildings</th>\n",
       "      <th>NumberofFloors</th>\n",
       "      <th>...</th>\n",
       "      <th>NaturalGas(therms)</th>\n",
       "      <th>NaturalGas(kBtu)</th>\n",
       "      <th>TotalGHGEmissions</th>\n",
       "      <th>GHGEmissionsIntensity</th>\n",
       "      <th>DefaultData</th>\n",
       "      <th>ComplianceStatus</th>\n",
       "      <th>Address</th>\n",
       "      <th>ZipCode</th>\n",
       "      <th>Longitude</th>\n",
       "      <th>Latitude</th>\n",
       "    </tr>\n",
       "  </thead>\n",
       "  <tbody>\n",
       "  </tbody>\n",
       "</table>\n",
       "<p>0 rows × 40 columns</p>\n",
       "</div>"
      ],
      "text/plain": [
       "Empty DataFrame\n",
       "Columns: [OSEBuildingID, BuildingType, PrimaryPropertyType, PropertyName, TaxParcelIdentificationNumber, CouncilDistrictCode, Neighborhood, YearBuilt, NumberofBuildings, NumberofFloors, PropertyGFATotal, PropertyGFAParking, PropertyGFABuilding(s), ListOfAllPropertyUseTypes, LargestPropertyUseType, LargestPropertyUseTypeGFA, SecondLargestPropertyUseType, SecondLargestPropertyUseTypeGFA, ThirdLargestPropertyUseType, ThirdLargestPropertyUseTypeGFA, ENERGYSTARScore, SiteEUI(kBtu/sf), SiteEUIWN(kBtu/sf), SourceEUI(kBtu/sf), SourceEUIWN(kBtu/sf), SiteEnergyUse(kBtu), SiteEnergyUseWN(kBtu), SteamUse(kBtu), Electricity(kWh), Electricity(kBtu), NaturalGas(therms), NaturalGas(kBtu), TotalGHGEmissions, GHGEmissionsIntensity, DefaultData, ComplianceStatus, Address, ZipCode, Longitude, Latitude]\n",
       "Index: []\n",
       "\n",
       "[0 rows x 40 columns]"
      ]
     },
     "execution_count": 18,
     "metadata": {},
     "output_type": "execute_result"
    }
   ],
   "source": [
    "df[df[\"PropertyGFATotal\"] != (df[\"PropertyGFAParking\"] + df[\"PropertyGFABuilding(s)\"])]"
   ]
  },
  {
   "cell_type": "code",
   "execution_count": 19,
   "metadata": {},
   "outputs": [],
   "source": [
    "df.drop([\"PropertyGFATotal\"], axis=1, inplace=True)"
   ]
  },
  {
   "cell_type": "code",
   "execution_count": 20,
   "metadata": {},
   "outputs": [],
   "source": [
    "df.loc[df[\"Electricity(kBtu)\"] < 0, \"Electricity(kBtu)\"] = np.nan\n",
    "\n",
    "df.loc[df[\"TotalGHGEmissions\"]<0, \"TotalGHGEmissions\"] = np.nan"
   ]
  },
  {
   "cell_type": "code",
   "execution_count": 21,
   "metadata": {},
   "outputs": [],
   "source": [
    "#PrimaryPropertyType\n",
    "for i, row in df.iterrows():\n",
    "    f = \"PrimaryPropertyType\"\n",
    "    valeur = df.loc[i,f]\n",
    "    if valeur == \"Distribution Center\\n\":\n",
    "        df.loc[i,f] = \"Distribution Center\"\n",
    "        continue\n",
    "    if valeur == \"Supermarket / Grocery Store\":\n",
    "        df.loc[i,f] = \"Supermarket/Grocery Store\"\n",
    "        continue\n",
    "    if valeur == \"Self-Storage Facility\\n\":\n",
    "        df.loc[i,f] = \"Self-Storage Facility\"\n",
    "        continue\n",
    "    if valeur == \"Restaurant\\n\":\n",
    "        df.loc[i,f] = \"Restaurant\"\n",
    "        continue\n",
    "    if valeur == \"College/University\":\n",
    "        df.loc[i,f] = \"University\"\n",
    "        continue\n",
    "    if valeur == \"Residence Hall/Dormitory\":\n",
    "        df.loc[i,f] = \"Residence Hall\"\n",
    "        continue\n",
    "        \n",
    "#Neighborhood\n",
    "for i, row in df.iterrows():\n",
    "    f = \"Neighborhood\"\n",
    "    valeur = df.loc[i,f].strip()\n",
    "    if valeur == \"North\":\n",
    "        df.loc[i,f] = \"NORTH\"\n",
    "        continue\n",
    "    if valeur == \"DELRIDGE NEIGHBORHOODS\" or valeur == \"Delridge\":\n",
    "        df.loc[i,f] = \"DELRIDGE\"\n",
    "        continue\n",
    "    if valeur == \"Northwest\":\n",
    "        df.loc[i,f] = \"NORTHWEST\"\n",
    "        continue\n",
    "    if valeur == \"Ballard\":\n",
    "        df.loc[i,f] = \"BALLARD\"\n",
    "        continue\n",
    "    if valeur == \"Central\":\n",
    "        df.loc[i,f] = \"CENTRAL\"\n",
    "        continue        \n",
    "#DefaultData \n",
    "f = \"DefaultData\"\n",
    "df[f] = df[f].astype(\"str\")\n",
    "for i, row in df.iterrows():\n",
    "    valeur = df.loc[i,f].strip()\n",
    "    if valeur == \"No\":\n",
    "        df.loc[i,f] = \"False\"\n",
    "        continue\n",
    "    if valeur == \"Yes\":\n",
    "        df.loc[i,f] = \"True\"\n",
    "        continue\n",
    "    if valeur == \"nan\":\n",
    "        df.loc[i,f] = np.nan\n",
    "#ZipCode\n",
    "df[\"ZipCode\"] = df[\"ZipCode\"].astype(\"str\")"
   ]
  },
  {
   "cell_type": "code",
   "execution_count": 24,
   "metadata": {},
   "outputs": [
    {
     "data": {
      "text/plain": [
       "0.3336347197106691"
      ]
     },
     "execution_count": 24,
     "metadata": {},
     "output_type": "execute_result"
    }
   ],
   "source": [
    "df[\"ENERGYSTARScore\"].isna().sum()/len(df)"
   ]
  },
  {
   "cell_type": "code",
   "execution_count": 153,
   "metadata": {},
   "outputs": [],
   "source": [
    "categorical_cols = [cname for cname in df.columns if df[cname].dtype == \"object\"]\n",
    "numerical_cols = [cname for cname in df.columns if df[cname].dtype in ['int64', 'float64']]\n",
    "\n",
    "# Prétraitement de la donnée catégorielle\n",
    "categorical_transformer = SimpleImputer(strategy='most_frequent')\n",
    "\n",
    "# Prétraitement de la donnée numérique\n",
    "numerical_transformer = SimpleImputer(strategy='median')\n",
    "\n",
    "X_train_init, X_test_init = train_test_split(df, test_size=0.2, random_state=0)\n",
    "SIZE = X_train_init.shape[0]\n",
    "\n",
    "preprocessor = ColumnTransformer(\n",
    "        transformers=[\n",
    "            ('cat', categorical_transformer, categorical_cols),\n",
    "            ('num', numerical_transformer, numerical_cols)\n",
    "        ]\n",
    "    )\n",
    "\n",
    "imputed_X_train = pd.DataFrame(preprocessor.fit_transform(X_train_init))\n",
    "imputed_X_test = pd.DataFrame(preprocessor.transform(X_test_init))\n",
    "\n",
    "imputed_X_train.columns = categorical_cols + numerical_cols\n",
    "imputed_X_test.columns = categorical_cols + numerical_cols\n",
    "\n",
    "df = pd.concat([imputed_X_train, imputed_X_test], axis=0, join='inner', ignore_index=True)"
   ]
  },
  {
   "cell_type": "code",
   "execution_count": 154,
   "metadata": {},
   "outputs": [],
   "source": [
    "for f in numerical_cols:\n",
    "    df[f] = df[f].astype(\"float64\")"
   ]
  },
  {
   "cell_type": "code",
   "execution_count": 155,
   "metadata": {},
   "outputs": [],
   "source": [
    "############### Analyse exploratoire  #########################"
   ]
  },
  {
   "cell_type": "code",
   "execution_count": 156,
   "metadata": {},
   "outputs": [
    {
     "data": {
      "text/html": [
       "<div>\n",
       "<style scoped>\n",
       "    .dataframe tbody tr th:only-of-type {\n",
       "        vertical-align: middle;\n",
       "    }\n",
       "\n",
       "    .dataframe tbody tr th {\n",
       "        vertical-align: top;\n",
       "    }\n",
       "\n",
       "    .dataframe thead th {\n",
       "        text-align: right;\n",
       "    }\n",
       "</style>\n",
       "<table border=\"1\" class=\"dataframe\">\n",
       "  <thead>\n",
       "    <tr style=\"text-align: right;\">\n",
       "      <th></th>\n",
       "      <th>CouncilDistrictCode</th>\n",
       "      <th>YearBuilt</th>\n",
       "      <th>NumberofBuildings</th>\n",
       "      <th>NumberofFloors</th>\n",
       "      <th>PropertyGFAParking</th>\n",
       "      <th>PropertyGFABuilding(s)</th>\n",
       "      <th>LargestPropertyUseTypeGFA</th>\n",
       "      <th>SecondLargestPropertyUseTypeGFA</th>\n",
       "      <th>ThirdLargestPropertyUseTypeGFA</th>\n",
       "      <th>ENERGYSTARScore</th>\n",
       "      <th>...</th>\n",
       "      <th>SiteEnergyUseWN(kBtu)</th>\n",
       "      <th>SteamUse(kBtu)</th>\n",
       "      <th>Electricity(kWh)</th>\n",
       "      <th>Electricity(kBtu)</th>\n",
       "      <th>NaturalGas(therms)</th>\n",
       "      <th>NaturalGas(kBtu)</th>\n",
       "      <th>TotalGHGEmissions</th>\n",
       "      <th>GHGEmissionsIntensity</th>\n",
       "      <th>Longitude</th>\n",
       "      <th>Latitude</th>\n",
       "    </tr>\n",
       "  </thead>\n",
       "  <tbody>\n",
       "    <tr>\n",
       "      <th>count</th>\n",
       "      <td>3318.000000</td>\n",
       "      <td>3318.000000</td>\n",
       "      <td>3318.000000</td>\n",
       "      <td>3318.000000</td>\n",
       "      <td>3318.000000</td>\n",
       "      <td>3.318000e+03</td>\n",
       "      <td>3.318000e+03</td>\n",
       "      <td>3318.000000</td>\n",
       "      <td>3318.000000</td>\n",
       "      <td>3318.000000</td>\n",
       "      <td>...</td>\n",
       "      <td>3.318000e+03</td>\n",
       "      <td>3.318000e+03</td>\n",
       "      <td>3.318000e+03</td>\n",
       "      <td>3.318000e+03</td>\n",
       "      <td>3.318000e+03</td>\n",
       "      <td>3.318000e+03</td>\n",
       "      <td>3318.000000</td>\n",
       "      <td>3318.000000</td>\n",
       "      <td>3318.000000</td>\n",
       "      <td>3318.000000</td>\n",
       "    </tr>\n",
       "    <tr>\n",
       "      <th>mean</th>\n",
       "      <td>4.365883</td>\n",
       "      <td>1961.536769</td>\n",
       "      <td>1.117239</td>\n",
       "      <td>4.121760</td>\n",
       "      <td>13303.304702</td>\n",
       "      <td>1.023639e+05</td>\n",
       "      <td>9.427255e+04</td>\n",
       "      <td>23999.700813</td>\n",
       "      <td>7532.051054</td>\n",
       "      <td>67.212779</td>\n",
       "      <td>...</td>\n",
       "      <td>7.974941e+06</td>\n",
       "      <td>4.920650e+05</td>\n",
       "      <td>1.648737e+06</td>\n",
       "      <td>5.626119e+06</td>\n",
       "      <td>1.872721e+04</td>\n",
       "      <td>1.872721e+06</td>\n",
       "      <td>176.705280</td>\n",
       "      <td>1.477737</td>\n",
       "      <td>-122.333051</td>\n",
       "      <td>47.616006</td>\n",
       "    </tr>\n",
       "    <tr>\n",
       "      <th>std</th>\n",
       "      <td>2.195304</td>\n",
       "      <td>32.709772</td>\n",
       "      <td>2.219178</td>\n",
       "      <td>6.560238</td>\n",
       "      <td>43596.620504</td>\n",
       "      <td>2.340749e+05</td>\n",
       "      <td>2.251079e+05</td>\n",
       "      <td>49880.816396</td>\n",
       "      <td>15231.024377</td>\n",
       "      <td>23.548830</td>\n",
       "      <td>...</td>\n",
       "      <td>2.065731e+07</td>\n",
       "      <td>5.219646e+06</td>\n",
       "      <td>5.095673e+06</td>\n",
       "      <td>1.738649e+07</td>\n",
       "      <td>7.887994e+04</td>\n",
       "      <td>7.887995e+06</td>\n",
       "      <td>665.567854</td>\n",
       "      <td>2.212131</td>\n",
       "      <td>0.024535</td>\n",
       "      <td>0.048102</td>\n",
       "    </tr>\n",
       "    <tr>\n",
       "      <th>min</th>\n",
       "      <td>1.000000</td>\n",
       "      <td>1900.000000</td>\n",
       "      <td>0.000000</td>\n",
       "      <td>0.000000</td>\n",
       "      <td>-2.000000</td>\n",
       "      <td>-5.055000e+04</td>\n",
       "      <td>5.656000e+03</td>\n",
       "      <td>0.000000</td>\n",
       "      <td>0.000000</td>\n",
       "      <td>1.000000</td>\n",
       "      <td>...</td>\n",
       "      <td>0.000000e+00</td>\n",
       "      <td>0.000000e+00</td>\n",
       "      <td>-3.382680e+04</td>\n",
       "      <td>0.000000e+00</td>\n",
       "      <td>0.000000e+00</td>\n",
       "      <td>0.000000e+00</td>\n",
       "      <td>0.000000</td>\n",
       "      <td>-0.020000</td>\n",
       "      <td>-122.411820</td>\n",
       "      <td>47.499170</td>\n",
       "    </tr>\n",
       "    <tr>\n",
       "      <th>25%</th>\n",
       "      <td>2.000000</td>\n",
       "      <td>1930.000000</td>\n",
       "      <td>1.000000</td>\n",
       "      <td>1.000000</td>\n",
       "      <td>0.000000</td>\n",
       "      <td>2.850775e+04</td>\n",
       "      <td>2.575300e+04</td>\n",
       "      <td>11737.000000</td>\n",
       "      <td>5837.000000</td>\n",
       "      <td>61.000000</td>\n",
       "      <td>...</td>\n",
       "      <td>1.329571e+06</td>\n",
       "      <td>0.000000e+00</td>\n",
       "      <td>2.124399e+05</td>\n",
       "      <td>7.253358e+05</td>\n",
       "      <td>0.000000e+00</td>\n",
       "      <td>0.000000e+00</td>\n",
       "      <td>19.775000</td>\n",
       "      <td>0.270000</td>\n",
       "      <td>-122.343357</td>\n",
       "      <td>47.585595</td>\n",
       "    </tr>\n",
       "    <tr>\n",
       "      <th>50%</th>\n",
       "      <td>4.000000</td>\n",
       "      <td>1965.000000</td>\n",
       "      <td>1.000000</td>\n",
       "      <td>2.000000</td>\n",
       "      <td>0.000000</td>\n",
       "      <td>4.736800e+04</td>\n",
       "      <td>4.300800e+04</td>\n",
       "      <td>11737.000000</td>\n",
       "      <td>5837.000000</td>\n",
       "      <td>72.000000</td>\n",
       "      <td>...</td>\n",
       "      <td>2.672130e+06</td>\n",
       "      <td>0.000000e+00</td>\n",
       "      <td>4.729222e+05</td>\n",
       "      <td>1.613644e+06</td>\n",
       "      <td>4.866220e+03</td>\n",
       "      <td>4.866055e+05</td>\n",
       "      <td>49.060000</td>\n",
       "      <td>0.770000</td>\n",
       "      <td>-122.333019</td>\n",
       "      <td>47.612313</td>\n",
       "    </tr>\n",
       "    <tr>\n",
       "      <th>75%</th>\n",
       "      <td>7.000000</td>\n",
       "      <td>1989.000000</td>\n",
       "      <td>1.000000</td>\n",
       "      <td>4.000000</td>\n",
       "      <td>0.000000</td>\n",
       "      <td>9.447150e+04</td>\n",
       "      <td>8.849000e+04</td>\n",
       "      <td>12353.000000</td>\n",
       "      <td>5837.000000</td>\n",
       "      <td>81.000000</td>\n",
       "      <td>...</td>\n",
       "      <td>7.144437e+06</td>\n",
       "      <td>0.000000e+00</td>\n",
       "      <td>1.425870e+06</td>\n",
       "      <td>4.865271e+06</td>\n",
       "      <td>1.465539e+04</td>\n",
       "      <td>1.465539e+06</td>\n",
       "      <td>138.662500</td>\n",
       "      <td>1.750000</td>\n",
       "      <td>-122.321825</td>\n",
       "      <td>47.649156</td>\n",
       "    </tr>\n",
       "    <tr>\n",
       "      <th>max</th>\n",
       "      <td>7.000000</td>\n",
       "      <td>2015.000000</td>\n",
       "      <td>111.000000</td>\n",
       "      <td>99.000000</td>\n",
       "      <td>512608.000000</td>\n",
       "      <td>9.320156e+06</td>\n",
       "      <td>9.320156e+06</td>\n",
       "      <td>686750.000000</td>\n",
       "      <td>459748.000000</td>\n",
       "      <td>100.000000</td>\n",
       "      <td>...</td>\n",
       "      <td>4.716139e+08</td>\n",
       "      <td>1.349435e+08</td>\n",
       "      <td>1.925775e+08</td>\n",
       "      <td>6.570744e+08</td>\n",
       "      <td>2.979090e+06</td>\n",
       "      <td>2.979090e+08</td>\n",
       "      <td>16870.980000</td>\n",
       "      <td>34.090000</td>\n",
       "      <td>-122.258640</td>\n",
       "      <td>47.733870</td>\n",
       "    </tr>\n",
       "  </tbody>\n",
       "</table>\n",
       "<p>8 rows × 25 columns</p>\n",
       "</div>"
      ],
      "text/plain": [
       "       CouncilDistrictCode    YearBuilt  NumberofBuildings  NumberofFloors  \\\n",
       "count          3318.000000  3318.000000        3318.000000     3318.000000   \n",
       "mean              4.365883  1961.536769           1.117239        4.121760   \n",
       "std               2.195304    32.709772           2.219178        6.560238   \n",
       "min               1.000000  1900.000000           0.000000        0.000000   \n",
       "25%               2.000000  1930.000000           1.000000        1.000000   \n",
       "50%               4.000000  1965.000000           1.000000        2.000000   \n",
       "75%               7.000000  1989.000000           1.000000        4.000000   \n",
       "max               7.000000  2015.000000         111.000000       99.000000   \n",
       "\n",
       "       PropertyGFAParking  PropertyGFABuilding(s)  LargestPropertyUseTypeGFA  \\\n",
       "count         3318.000000            3.318000e+03               3.318000e+03   \n",
       "mean         13303.304702            1.023639e+05               9.427255e+04   \n",
       "std          43596.620504            2.340749e+05               2.251079e+05   \n",
       "min             -2.000000           -5.055000e+04               5.656000e+03   \n",
       "25%              0.000000            2.850775e+04               2.575300e+04   \n",
       "50%              0.000000            4.736800e+04               4.300800e+04   \n",
       "75%              0.000000            9.447150e+04               8.849000e+04   \n",
       "max         512608.000000            9.320156e+06               9.320156e+06   \n",
       "\n",
       "       SecondLargestPropertyUseTypeGFA  ThirdLargestPropertyUseTypeGFA  \\\n",
       "count                      3318.000000                     3318.000000   \n",
       "mean                      23999.700813                     7532.051054   \n",
       "std                       49880.816396                    15231.024377   \n",
       "min                           0.000000                        0.000000   \n",
       "25%                       11737.000000                     5837.000000   \n",
       "50%                       11737.000000                     5837.000000   \n",
       "75%                       12353.000000                     5837.000000   \n",
       "max                      686750.000000                   459748.000000   \n",
       "\n",
       "       ENERGYSTARScore  ...  SiteEnergyUseWN(kBtu)  SteamUse(kBtu)  \\\n",
       "count      3318.000000  ...           3.318000e+03    3.318000e+03   \n",
       "mean         67.212779  ...           7.974941e+06    4.920650e+05   \n",
       "std          23.548830  ...           2.065731e+07    5.219646e+06   \n",
       "min           1.000000  ...           0.000000e+00    0.000000e+00   \n",
       "25%          61.000000  ...           1.329571e+06    0.000000e+00   \n",
       "50%          72.000000  ...           2.672130e+06    0.000000e+00   \n",
       "75%          81.000000  ...           7.144437e+06    0.000000e+00   \n",
       "max         100.000000  ...           4.716139e+08    1.349435e+08   \n",
       "\n",
       "       Electricity(kWh)  Electricity(kBtu)  NaturalGas(therms)  \\\n",
       "count      3.318000e+03       3.318000e+03        3.318000e+03   \n",
       "mean       1.648737e+06       5.626119e+06        1.872721e+04   \n",
       "std        5.095673e+06       1.738649e+07        7.887994e+04   \n",
       "min       -3.382680e+04       0.000000e+00        0.000000e+00   \n",
       "25%        2.124399e+05       7.253358e+05        0.000000e+00   \n",
       "50%        4.729222e+05       1.613644e+06        4.866220e+03   \n",
       "75%        1.425870e+06       4.865271e+06        1.465539e+04   \n",
       "max        1.925775e+08       6.570744e+08        2.979090e+06   \n",
       "\n",
       "       NaturalGas(kBtu)  TotalGHGEmissions  GHGEmissionsIntensity  \\\n",
       "count      3.318000e+03        3318.000000            3318.000000   \n",
       "mean       1.872721e+06         176.705280               1.477737   \n",
       "std        7.887995e+06         665.567854               2.212131   \n",
       "min        0.000000e+00           0.000000              -0.020000   \n",
       "25%        0.000000e+00          19.775000               0.270000   \n",
       "50%        4.866055e+05          49.060000               0.770000   \n",
       "75%        1.465539e+06         138.662500               1.750000   \n",
       "max        2.979090e+08       16870.980000              34.090000   \n",
       "\n",
       "         Longitude     Latitude  \n",
       "count  3318.000000  3318.000000  \n",
       "mean   -122.333051    47.616006  \n",
       "std       0.024535     0.048102  \n",
       "min    -122.411820    47.499170  \n",
       "25%    -122.343357    47.585595  \n",
       "50%    -122.333019    47.612313  \n",
       "75%    -122.321825    47.649156  \n",
       "max    -122.258640    47.733870  \n",
       "\n",
       "[8 rows x 25 columns]"
      ]
     },
     "execution_count": 156,
     "metadata": {},
     "output_type": "execute_result"
    }
   ],
   "source": [
    "df.describe()"
   ]
  },
  {
   "cell_type": "code",
   "execution_count": 157,
   "metadata": {},
   "outputs": [
    {
     "data": {
      "text/plain": [
       "0.9999999999999998"
      ]
     },
     "execution_count": 157,
     "metadata": {},
     "output_type": "execute_result"
    }
   ],
   "source": [
    "np.corrcoef(df[\"NaturalGas(kBtu)\"], df[\"NaturalGas(therms)\"])[1,1]"
   ]
  },
  {
   "cell_type": "code",
   "execution_count": 158,
   "metadata": {},
   "outputs": [
    {
     "data": {
      "text/plain": [
       "0.9999999999999998"
      ]
     },
     "execution_count": 158,
     "metadata": {},
     "output_type": "execute_result"
    }
   ],
   "source": [
    "np.corrcoef(df[\"Electricity(kBtu)\"], df[\"Electricity(kWh)\"])[1,1]"
   ]
  },
  {
   "cell_type": "code",
   "execution_count": 159,
   "metadata": {},
   "outputs": [
    {
     "data": {
      "text/plain": [
       "(3318, 37)"
      ]
     },
     "execution_count": 159,
     "metadata": {},
     "output_type": "execute_result"
    }
   ],
   "source": [
    "#Suppression des colonnes Electricity(kWh) et NaturalGas(therms)\n",
    "df.drop([\"Electricity(kWh)\", \"NaturalGas(therms)\"], axis=1, inplace=True)\n",
    "df.shape"
   ]
  },
  {
   "cell_type": "code",
   "execution_count": 160,
   "metadata": {},
   "outputs": [],
   "source": [
    "numerical_cols.remove(\"Electricity(kWh)\")\n",
    "numerical_cols.remove(\"NaturalGas(therms)\")"
   ]
  },
  {
   "cell_type": "code",
   "execution_count": 161,
   "metadata": {},
   "outputs": [
    {
     "data": {
      "image/png": "[encoded data removed]",
      "text/plain": [
       "<Figure size 1152x576 with 1 Axes>"
      ]
     },
     "metadata": {},
     "output_type": "display_data"
    }
   ],
   "source": [
    "corpus = ' '.join(df[\"ListOfAllPropertyUseTypes\"])\n",
    "wordcloud = WordCloud(stopwords = STOPWORDS, background_color = 'white', height = 2000, width = 4000).generate(corpus)\n",
    "plt.figure(figsize = (16,8))\n",
    "plt.imshow(wordcloud)\n",
    "plt.axis('off')\n",
    "plt.show()"
   ]
  },
  {
   "cell_type": "code",
   "execution_count": 162,
   "metadata": {},
   "outputs": [],
   "source": [
    "def matrice_correlation(features, data):\n",
    "    X = []\n",
    "    for f in features:\n",
    "        X.append(data[f].values)\n",
    "    \n",
    "    Mx = np.corrcoef(X)\n",
    "\n",
    "    mask = np.zeros_like(Mx)\n",
    "    n = mask.shape[0]\n",
    "    for i in range(0, n):\n",
    "        for j in range(0, n):\n",
    "            if j > i:\n",
    "                mask[i, j] = True \n",
    "            \n",
    "    with sns.axes_style(\"white\"):\n",
    "        ax = sns.heatmap(Mx, vmin=0, vmax=1, linewidths=.5,mask=mask, square=True, xticklabels=features, yticklabels=features)"
   ]
  },
  {
   "cell_type": "code",
   "execution_count": 163,
   "metadata": {},
   "outputs": [
    {
     "data": {
      "image/png": "[encoded data removed]",
      "text/plain": [
       "<Figure size 432x288 with 2 Axes>"
      ]
     },
     "metadata": {},
     "output_type": "display_data"
    }
   ],
   "source": [
    "fs = ['SiteEUI(kBtu/sf)', 'SiteEUIWN(kBtu/sf)', 'SourceEUI(kBtu/sf)','SourceEUIWN(kBtu/sf)',\n",
    "      'SiteEnergyUse(kBtu)', 'SiteEnergyUseWN(kBtu)']\n",
    "\n",
    "matrice_correlation(fs, df)"
   ]
  },
  {
   "cell_type": "code",
   "execution_count": 164,
   "metadata": {},
   "outputs": [
    {
     "data": {
      "text/plain": [
       "(3318, 34)"
      ]
     },
     "execution_count": 164,
     "metadata": {},
     "output_type": "execute_result"
    }
   ],
   "source": [
    "df.drop([\"SiteEUIWN(kBtu/sf)\", \"SourceEUIWN(kBtu/sf)\", \"SiteEnergyUseWN(kBtu)\"], axis=1, inplace=True)\n",
    "df.shape"
   ]
  },
  {
   "cell_type": "code",
   "execution_count": 165,
   "metadata": {},
   "outputs": [],
   "source": [
    "numerical_cols.remove(\"SiteEUIWN(kBtu/sf)\")\n",
    "numerical_cols.remove(\"SourceEUIWN(kBtu/sf)\")\n",
    "numerical_cols.remove(\"SiteEnergyUseWN(kBtu)\")"
   ]
  },
  {
   "cell_type": "code",
   "execution_count": 166,
   "metadata": {},
   "outputs": [
    {
     "data": {
      "text/plain": [
       "<seaborn.axisgrid.PairGrid at 0x29d36388390>"
      ]
     },
     "execution_count": 166,
     "metadata": {},
     "output_type": "execute_result"
    },
    {
     "data": {
      "image/png": "[encoded data removed]",
      "text/plain": [
       "<Figure size 360x360 with 6 Axes>"
      ]
     },
     "metadata": {},
     "output_type": "display_data"
    }
   ],
   "source": [
    "sns.set(style=\"ticks\", color_codes=True)\n",
    "sns.pairplot(df, vars=[\"SiteEnergyUse(kBtu)\", \"TotalGHGEmissions\"])"
   ]
  },
  {
   "cell_type": "code",
   "execution_count": 167,
   "metadata": {},
   "outputs": [
    {
     "data": {
      "image/png": "[encoded data removed]",
      "text/plain": [
       "<Figure size 432x288 with 2 Axes>"
      ]
     },
     "metadata": {},
     "output_type": "display_data"
    }
   ],
   "source": [
    "fs = ['CouncilDistrictCode', 'YearBuilt', 'NumberofBuildings', 'NumberofFloors', 'PropertyGFAParking','PropertyGFABuilding(s)',\n",
    "      'LargestPropertyUseTypeGFA','SecondLargestPropertyUseTypeGFA','ThirdLargestPropertyUseTypeGFA','ENERGYSTARScore',\n",
    "      'SiteEnergyUse(kBtu)', 'SteamUse(kBtu)', 'Electricity(kBtu)','NaturalGas(kBtu)','TotalGHGEmissions',\n",
    "      'GHGEmissionsIntensity','Longitude', 'Latitude']\n",
    "matrice_correlation(fs, df)"
   ]
  },
  {
   "cell_type": "code",
   "execution_count": 168,
   "metadata": {},
   "outputs": [
    {
     "name": "stdout",
     "output_type": "stream",
     "text": [
      "CouncilDistrictCode                -0.001236\n",
      "YearBuilt                          -0.286742\n",
      "NumberofBuildings                  39.280544\n",
      "NumberofFloors                      6.072202\n",
      "PropertyGFAParking                  5.266699\n",
      "PropertyGFABuilding(s)             20.513006\n",
      "LargestPropertyUseTypeGFA          22.588987\n",
      "SecondLargestPropertyUseTypeGFA     5.961250\n",
      "ThirdLargestPropertyUseTypeGFA     16.368744\n",
      "ENERGYSTARScore                    -1.186394\n",
      "SiteEUI(kBtu/sf)                    3.632941\n",
      "SourceEUI(kBtu/sf)                  4.667595\n",
      "SiteEnergyUse(kBtu)                17.501283\n",
      "SteamUse(kBtu)                     20.064194\n",
      "Electricity(kBtu)                  19.962189\n",
      "NaturalGas(kBtu)                   21.321468\n",
      "TotalGHGEmissions                  14.185609\n",
      "GHGEmissionsIntensity               4.684568\n",
      "Longitude                          -0.063584\n",
      "Latitude                            0.235695\n",
      "dtype: float64\n"
     ]
    }
   ],
   "source": [
    "print(df[numerical_cols].skew())"
   ]
  },
  {
   "cell_type": "code",
   "execution_count": 169,
   "metadata": {},
   "outputs": [],
   "source": [
    "df_breakpoint = df.copy()"
   ]
  },
  {
   "cell_type": "code",
   "execution_count": 213,
   "metadata": {},
   "outputs": [],
   "source": [
    "df = df_breakpoint.copy()"
   ]
  },
  {
   "cell_type": "code",
   "execution_count": 214,
   "metadata": {},
   "outputs": [
    {
     "name": "stdout",
     "output_type": "stream",
     "text": [
      "TotalGHGEmissions      14.185609\n",
      "SiteEnergyUse(kBtu)    17.501283\n",
      "dtype: float64\n"
     ]
    }
   ],
   "source": [
    "print(df[[\"TotalGHGEmissions\", \"SiteEnergyUse(kBtu)\"]].skew())"
   ]
  },
  {
   "cell_type": "code",
   "execution_count": 215,
   "metadata": {},
   "outputs": [],
   "source": [
    "for f in [\"TotalGHGEmissions\", \"SiteEnergyUse(kBtu)\"]:\n",
    "    df[f] = np.log1p(df[f])"
   ]
  },
  {
   "cell_type": "code",
   "execution_count": 216,
   "metadata": {},
   "outputs": [
    {
     "name": "stdout",
     "output_type": "stream",
     "text": [
      "TotalGHGEmissions      0.155362\n",
      "SiteEnergyUse(kBtu)   -3.320828\n",
      "dtype: float64\n"
     ]
    }
   ],
   "source": [
    "print(df[[\"TotalGHGEmissions\", \"SiteEnergyUse(kBtu)\"]].skew())"
   ]
  },
  {
   "cell_type": "code",
   "execution_count": 217,
   "metadata": {},
   "outputs": [],
   "source": [
    "################################################## Emission de CO2 #########################################################"
   ]
  },
  {
   "cell_type": "code",
   "execution_count": 218,
   "metadata": {},
   "outputs": [],
   "source": [
    "y = df[\"TotalGHGEmissions\"]\n",
    "X = df.drop(['TotalGHGEmissions', \"OSEBuildingID\", \"SiteEUI(kBtu/sf)\", \"SourceEUI(kBtu/sf)\",\n",
    "             \"GHGEmissionsIntensity\", \"SiteEnergyUse(kBtu)\"], axis=1)"
   ]
  },
  {
   "cell_type": "code",
   "execution_count": 219,
   "metadata": {},
   "outputs": [],
   "source": [
    "#Transformer les valeurs de la variable DefaultData: True par 1 et False par 0\n",
    "X.loc[X[\"DefaultData\"] == \"True\", \"DefaultData\"] = 1\n",
    "X.loc[X[\"DefaultData\"] == \"False\", \"DefaultData\"] = 0\n",
    "X[\"DefaultData\"] = X[\"DefaultData\"].astype(\"float64\")\n",
    "\n",
    "#traiter les variables Electricity, NaturalGas, SteamUse comme binaire; 1 si val > 0 et 0 sinon\n",
    "X.loc[X[\"SteamUse(kBtu)\"] > 0, \"SteamUse(kBtu)\"] = 1\n",
    "X.loc[X[\"Electricity(kBtu)\"] > 0, \"Electricity(kBtu)\"] = 1\n",
    "X.loc[X[\"NaturalGas(kBtu)\"] > 0, \"NaturalGas(kBtu)\"] = 1"
   ]
  },
  {
   "cell_type": "code",
   "execution_count": 220,
   "metadata": {},
   "outputs": [
    {
     "data": {
      "text/html": [
       "<div>\n",
       "<style scoped>\n",
       "    .dataframe tbody tr th:only-of-type {\n",
       "        vertical-align: middle;\n",
       "    }\n",
       "\n",
       "    .dataframe tbody tr th {\n",
       "        vertical-align: top;\n",
       "    }\n",
       "\n",
       "    .dataframe thead th {\n",
       "        text-align: right;\n",
       "    }\n",
       "</style>\n",
       "<table border=\"1\" class=\"dataframe\">\n",
       "  <thead>\n",
       "    <tr style=\"text-align: right;\">\n",
       "      <th></th>\n",
       "      <th>DefaultData</th>\n",
       "      <th>SteamUse(kBtu)</th>\n",
       "      <th>Electricity(kBtu)</th>\n",
       "      <th>NaturalGas(kBtu)</th>\n",
       "    </tr>\n",
       "  </thead>\n",
       "  <tbody>\n",
       "    <tr>\n",
       "      <th>0</th>\n",
       "      <td>0.0</td>\n",
       "      <td>0.0</td>\n",
       "      <td>1.0</td>\n",
       "      <td>1.0</td>\n",
       "    </tr>\n",
       "    <tr>\n",
       "      <th>1</th>\n",
       "      <td>0.0</td>\n",
       "      <td>0.0</td>\n",
       "      <td>1.0</td>\n",
       "      <td>0.0</td>\n",
       "    </tr>\n",
       "    <tr>\n",
       "      <th>2</th>\n",
       "      <td>0.0</td>\n",
       "      <td>0.0</td>\n",
       "      <td>1.0</td>\n",
       "      <td>1.0</td>\n",
       "    </tr>\n",
       "    <tr>\n",
       "      <th>3</th>\n",
       "      <td>0.0</td>\n",
       "      <td>0.0</td>\n",
       "      <td>1.0</td>\n",
       "      <td>1.0</td>\n",
       "    </tr>\n",
       "    <tr>\n",
       "      <th>4</th>\n",
       "      <td>0.0</td>\n",
       "      <td>1.0</td>\n",
       "      <td>1.0</td>\n",
       "      <td>1.0</td>\n",
       "    </tr>\n",
       "  </tbody>\n",
       "</table>\n",
       "</div>"
      ],
      "text/plain": [
       "   DefaultData  SteamUse(kBtu)  Electricity(kBtu)  NaturalGas(kBtu)\n",
       "0          0.0             0.0                1.0               1.0\n",
       "1          0.0             0.0                1.0               0.0\n",
       "2          0.0             0.0                1.0               1.0\n",
       "3          0.0             0.0                1.0               1.0\n",
       "4          0.0             1.0                1.0               1.0"
      ]
     },
     "execution_count": 220,
     "metadata": {},
     "output_type": "execute_result"
    }
   ],
   "source": [
    "X[[\"DefaultData\", \"SteamUse(kBtu)\", \"Electricity(kBtu)\", \"NaturalGas(kBtu)\"]][:5]"
   ]
  },
  {
   "cell_type": "code",
   "execution_count": 221,
   "metadata": {},
   "outputs": [],
   "source": [
    "#variables catégorielles\n",
    "def categorical_cols_split(X, num_split):\n",
    "    categorical_cols_label = []\n",
    "    categorical_cols_other = []\n",
    "    for cname in X.columns:\n",
    "        if X[cname].dtype == \"object\":\n",
    "            if X[cname].nunique() > num_split:\n",
    "                categorical_cols_label.append(cname)\n",
    "            else:\n",
    "                categorical_cols_other.append(cname)\n",
    "    return categorical_cols_label, categorical_cols_other\n",
    "\n",
    "categorical_cols_label, categorical_cols_other = categorical_cols_split(X, 50)\n",
    "\n",
    "categorical_cols = categorical_cols_label + categorical_cols_other\n",
    "\n",
    "#variables numériques\n",
    "numerical_cols = [cname for cname in X.columns if X[cname].dtype in ['int64', 'float64']]"
   ]
  },
  {
   "cell_type": "code",
   "execution_count": 222,
   "metadata": {},
   "outputs": [],
   "source": [
    "X_train = X[:SIZE]\n",
    "X_test = X[SIZE:]\n",
    "y_train = y[:SIZE]\n",
    "y_test = y[SIZE:]"
   ]
  },
  {
   "cell_type": "code",
   "execution_count": 223,
   "metadata": {},
   "outputs": [],
   "source": [
    "bunch_train = X_train[numerical_cols]\n",
    "bunch_test =  X_test[numerical_cols]"
   ]
  },
  {
   "cell_type": "code",
   "execution_count": 224,
   "metadata": {},
   "outputs": [
    {
     "data": {
      "text/html": [
       "<div>\n",
       "<style scoped>\n",
       "    .dataframe tbody tr th:only-of-type {\n",
       "        vertical-align: middle;\n",
       "    }\n",
       "\n",
       "    .dataframe tbody tr th {\n",
       "        vertical-align: top;\n",
       "    }\n",
       "\n",
       "    .dataframe thead th {\n",
       "        text-align: right;\n",
       "    }\n",
       "</style>\n",
       "<table border=\"1\" class=\"dataframe\">\n",
       "  <thead>\n",
       "    <tr style=\"text-align: right;\">\n",
       "      <th></th>\n",
       "      <th>DefaultData</th>\n",
       "      <th>CouncilDistrictCode</th>\n",
       "      <th>YearBuilt</th>\n",
       "      <th>NumberofBuildings</th>\n",
       "      <th>NumberofFloors</th>\n",
       "      <th>PropertyGFAParking</th>\n",
       "      <th>PropertyGFABuilding(s)</th>\n",
       "      <th>LargestPropertyUseTypeGFA</th>\n",
       "      <th>SecondLargestPropertyUseTypeGFA</th>\n",
       "      <th>ThirdLargestPropertyUseTypeGFA</th>\n",
       "      <th>ENERGYSTARScore</th>\n",
       "      <th>SteamUse(kBtu)</th>\n",
       "      <th>Electricity(kBtu)</th>\n",
       "      <th>NaturalGas(kBtu)</th>\n",
       "      <th>Longitude</th>\n",
       "      <th>Latitude</th>\n",
       "    </tr>\n",
       "  </thead>\n",
       "  <tbody>\n",
       "    <tr>\n",
       "      <th>0</th>\n",
       "      <td>0.0</td>\n",
       "      <td>4.0</td>\n",
       "      <td>1948.0</td>\n",
       "      <td>1.0</td>\n",
       "      <td>1.0</td>\n",
       "      <td>0.0</td>\n",
       "      <td>22778.0</td>\n",
       "      <td>21194.0</td>\n",
       "      <td>12923.0</td>\n",
       "      <td>3720.0</td>\n",
       "      <td>72.0</td>\n",
       "      <td>0.0</td>\n",
       "      <td>1.0</td>\n",
       "      <td>1.0</td>\n",
       "      <td>-122.276776</td>\n",
       "      <td>47.66811</td>\n",
       "    </tr>\n",
       "    <tr>\n",
       "      <th>1</th>\n",
       "      <td>0.0</td>\n",
       "      <td>6.0</td>\n",
       "      <td>2000.0</td>\n",
       "      <td>1.0</td>\n",
       "      <td>4.0</td>\n",
       "      <td>36528.0</td>\n",
       "      <td>53472.0</td>\n",
       "      <td>90000.0</td>\n",
       "      <td>11737.0</td>\n",
       "      <td>5837.0</td>\n",
       "      <td>84.0</td>\n",
       "      <td>0.0</td>\n",
       "      <td>1.0</td>\n",
       "      <td>0.0</td>\n",
       "      <td>-122.351580</td>\n",
       "      <td>47.64963</td>\n",
       "    </tr>\n",
       "    <tr>\n",
       "      <th>2</th>\n",
       "      <td>0.0</td>\n",
       "      <td>2.0</td>\n",
       "      <td>1963.0</td>\n",
       "      <td>1.0</td>\n",
       "      <td>1.0</td>\n",
       "      <td>0.0</td>\n",
       "      <td>100386.0</td>\n",
       "      <td>50628.0</td>\n",
       "      <td>49758.0</td>\n",
       "      <td>5837.0</td>\n",
       "      <td>72.0</td>\n",
       "      <td>0.0</td>\n",
       "      <td>1.0</td>\n",
       "      <td>1.0</td>\n",
       "      <td>-122.327410</td>\n",
       "      <td>47.56819</td>\n",
       "    </tr>\n",
       "    <tr>\n",
       "      <th>3</th>\n",
       "      <td>0.0</td>\n",
       "      <td>7.0</td>\n",
       "      <td>1947.0</td>\n",
       "      <td>1.0</td>\n",
       "      <td>2.0</td>\n",
       "      <td>0.0</td>\n",
       "      <td>22612.0</td>\n",
       "      <td>22612.0</td>\n",
       "      <td>11737.0</td>\n",
       "      <td>5837.0</td>\n",
       "      <td>87.0</td>\n",
       "      <td>0.0</td>\n",
       "      <td>1.0</td>\n",
       "      <td>1.0</td>\n",
       "      <td>-122.403200</td>\n",
       "      <td>47.63927</td>\n",
       "    </tr>\n",
       "    <tr>\n",
       "      <th>4</th>\n",
       "      <td>0.0</td>\n",
       "      <td>7.0</td>\n",
       "      <td>1914.0</td>\n",
       "      <td>1.0</td>\n",
       "      <td>4.0</td>\n",
       "      <td>0.0</td>\n",
       "      <td>45500.0</td>\n",
       "      <td>45500.0</td>\n",
       "      <td>11737.0</td>\n",
       "      <td>5837.0</td>\n",
       "      <td>77.0</td>\n",
       "      <td>1.0</td>\n",
       "      <td>1.0</td>\n",
       "      <td>1.0</td>\n",
       "      <td>-122.335200</td>\n",
       "      <td>47.60154</td>\n",
       "    </tr>\n",
       "  </tbody>\n",
       "</table>\n",
       "</div>"
      ],
      "text/plain": [
       "   DefaultData  CouncilDistrictCode  YearBuilt  NumberofBuildings  \\\n",
       "0          0.0                  4.0     1948.0                1.0   \n",
       "1          0.0                  6.0     2000.0                1.0   \n",
       "2          0.0                  2.0     1963.0                1.0   \n",
       "3          0.0                  7.0     1947.0                1.0   \n",
       "4          0.0                  7.0     1914.0                1.0   \n",
       "\n",
       "   NumberofFloors  PropertyGFAParking  PropertyGFABuilding(s)  \\\n",
       "0             1.0                 0.0                 22778.0   \n",
       "1             4.0             36528.0                 53472.0   \n",
       "2             1.0                 0.0                100386.0   \n",
       "3             2.0                 0.0                 22612.0   \n",
       "4             4.0                 0.0                 45500.0   \n",
       "\n",
       "   LargestPropertyUseTypeGFA  SecondLargestPropertyUseTypeGFA  \\\n",
       "0                    21194.0                          12923.0   \n",
       "1                    90000.0                          11737.0   \n",
       "2                    50628.0                          49758.0   \n",
       "3                    22612.0                          11737.0   \n",
       "4                    45500.0                          11737.0   \n",
       "\n",
       "   ThirdLargestPropertyUseTypeGFA  ENERGYSTARScore  SteamUse(kBtu)  \\\n",
       "0                          3720.0             72.0             0.0   \n",
       "1                          5837.0             84.0             0.0   \n",
       "2                          5837.0             72.0             0.0   \n",
       "3                          5837.0             87.0             0.0   \n",
       "4                          5837.0             77.0             1.0   \n",
       "\n",
       "   Electricity(kBtu)  NaturalGas(kBtu)   Longitude  Latitude  \n",
       "0                1.0               1.0 -122.276776  47.66811  \n",
       "1                1.0               0.0 -122.351580  47.64963  \n",
       "2                1.0               1.0 -122.327410  47.56819  \n",
       "3                1.0               1.0 -122.403200  47.63927  \n",
       "4                1.0               1.0 -122.335200  47.60154  "
      ]
     },
     "execution_count": 224,
     "metadata": {},
     "output_type": "execute_result"
    }
   ],
   "source": [
    "bunch_train.head()"
   ]
  },
  {
   "cell_type": "code",
   "execution_count": 225,
   "metadata": {},
   "outputs": [
    {
     "name": "stderr",
     "output_type": "stream",
     "text": [
      "C:\\Users\\namat\\Anaconda3\\lib\\site-packages\\ipykernel_launcher.py:8: SettingWithCopyWarning: \n",
      "A value is trying to be set on a copy of a slice from a DataFrame.\n",
      "Try using .loc[row_indexer,col_indexer] = value instead\n",
      "\n",
      "See the caveats in the documentation: http://pandas.pydata.org/pandas-docs/stable/indexing.html#indexing-view-versus-copy\n",
      "  \n",
      "C:\\Users\\namat\\Anaconda3\\lib\\site-packages\\ipykernel_launcher.py:16: SettingWithCopyWarning: \n",
      "A value is trying to be set on a copy of a slice from a DataFrame.\n",
      "Try using .loc[row_indexer,col_indexer] = value instead\n",
      "\n",
      "See the caveats in the documentation: http://pandas.pydata.org/pandas-docs/stable/indexing.html#indexing-view-versus-copy\n",
      "  app.launch_new_instance()\n"
     ]
    }
   ],
   "source": [
    "#Label encoder\n",
    "X_tr = X_train.copy()\n",
    "X_te = X_test.copy()\n",
    "\n",
    "label_encoder = LabelEncoder()\n",
    "\n",
    "for col in categorical_cols_label:\n",
    "    bunch_train[col] = label_encoder.fit_transform(X_tr[col])\n",
    "    lists_enc = list(label_encoder.classes_)\n",
    "    lists_enc_not = []\n",
    "    for i, row in X_te.iterrows():\n",
    "        val = X_te.loc[i, col] \n",
    "        if val not in lists_enc:\n",
    "            lists_enc_not.append(val)    \n",
    "    label_encoder.classes_ = np.array(lists_enc + lists_enc_not)\n",
    "    bunch_test[col] = label_encoder.transform(X_te[col])"
   ]
  },
  {
   "cell_type": "code",
   "execution_count": 226,
   "metadata": {},
   "outputs": [
    {
     "data": {
      "text/html": [
       "<div>\n",
       "<style scoped>\n",
       "    .dataframe tbody tr th:only-of-type {\n",
       "        vertical-align: middle;\n",
       "    }\n",
       "\n",
       "    .dataframe tbody tr th {\n",
       "        vertical-align: top;\n",
       "    }\n",
       "\n",
       "    .dataframe thead th {\n",
       "        text-align: right;\n",
       "    }\n",
       "</style>\n",
       "<table border=\"1\" class=\"dataframe\">\n",
       "  <thead>\n",
       "    <tr style=\"text-align: right;\">\n",
       "      <th></th>\n",
       "      <th>DefaultData</th>\n",
       "      <th>CouncilDistrictCode</th>\n",
       "      <th>YearBuilt</th>\n",
       "      <th>NumberofBuildings</th>\n",
       "      <th>NumberofFloors</th>\n",
       "      <th>PropertyGFAParking</th>\n",
       "      <th>PropertyGFABuilding(s)</th>\n",
       "      <th>LargestPropertyUseTypeGFA</th>\n",
       "      <th>SecondLargestPropertyUseTypeGFA</th>\n",
       "      <th>ThirdLargestPropertyUseTypeGFA</th>\n",
       "      <th>...</th>\n",
       "      <th>Electricity(kBtu)</th>\n",
       "      <th>NaturalGas(kBtu)</th>\n",
       "      <th>Longitude</th>\n",
       "      <th>Latitude</th>\n",
       "      <th>PropertyName</th>\n",
       "      <th>TaxParcelIdentificationNumber</th>\n",
       "      <th>ListOfAllPropertyUseTypes</th>\n",
       "      <th>LargestPropertyUseType</th>\n",
       "      <th>Address</th>\n",
       "      <th>ZipCode</th>\n",
       "    </tr>\n",
       "  </thead>\n",
       "  <tbody>\n",
       "    <tr>\n",
       "      <th>2654</th>\n",
       "      <td>0.0</td>\n",
       "      <td>4.0</td>\n",
       "      <td>1955.0</td>\n",
       "      <td>1.0</td>\n",
       "      <td>2.0</td>\n",
       "      <td>0.0</td>\n",
       "      <td>126394.0</td>\n",
       "      <td>26225.0</td>\n",
       "      <td>11737.0</td>\n",
       "      <td>5837.0</td>\n",
       "      <td>...</td>\n",
       "      <td>1.0</td>\n",
       "      <td>1.0</td>\n",
       "      <td>-122.296123</td>\n",
       "      <td>47.662703</td>\n",
       "      <td>2579</td>\n",
       "      <td>1680</td>\n",
       "      <td>362</td>\n",
       "      <td>48</td>\n",
       "      <td>2514</td>\n",
       "      <td>15</td>\n",
       "    </tr>\n",
       "    <tr>\n",
       "      <th>2655</th>\n",
       "      <td>0.0</td>\n",
       "      <td>7.0</td>\n",
       "      <td>2009.0</td>\n",
       "      <td>1.0</td>\n",
       "      <td>3.0</td>\n",
       "      <td>0.0</td>\n",
       "      <td>23241.0</td>\n",
       "      <td>23241.0</td>\n",
       "      <td>11737.0</td>\n",
       "      <td>5837.0</td>\n",
       "      <td>...</td>\n",
       "      <td>1.0</td>\n",
       "      <td>1.0</td>\n",
       "      <td>-122.353210</td>\n",
       "      <td>47.618847</td>\n",
       "      <td>2580</td>\n",
       "      <td>1838</td>\n",
       "      <td>369</td>\n",
       "      <td>55</td>\n",
       "      <td>2515</td>\n",
       "      <td>23</td>\n",
       "    </tr>\n",
       "    <tr>\n",
       "      <th>2656</th>\n",
       "      <td>0.0</td>\n",
       "      <td>6.0</td>\n",
       "      <td>1960.0</td>\n",
       "      <td>1.0</td>\n",
       "      <td>1.0</td>\n",
       "      <td>0.0</td>\n",
       "      <td>20678.0</td>\n",
       "      <td>23100.0</td>\n",
       "      <td>11737.0</td>\n",
       "      <td>5837.0</td>\n",
       "      <td>...</td>\n",
       "      <td>1.0</td>\n",
       "      <td>1.0</td>\n",
       "      <td>-122.356740</td>\n",
       "      <td>47.686020</td>\n",
       "      <td>2581</td>\n",
       "      <td>1769</td>\n",
       "      <td>242</td>\n",
       "      <td>24</td>\n",
       "      <td>2516</td>\n",
       "      <td>12</td>\n",
       "    </tr>\n",
       "    <tr>\n",
       "      <th>2657</th>\n",
       "      <td>0.0</td>\n",
       "      <td>6.0</td>\n",
       "      <td>1922.0</td>\n",
       "      <td>1.0</td>\n",
       "      <td>3.0</td>\n",
       "      <td>0.0</td>\n",
       "      <td>28820.0</td>\n",
       "      <td>33780.0</td>\n",
       "      <td>11737.0</td>\n",
       "      <td>5837.0</td>\n",
       "      <td>...</td>\n",
       "      <td>1.0</td>\n",
       "      <td>1.0</td>\n",
       "      <td>-122.357070</td>\n",
       "      <td>47.686420</td>\n",
       "      <td>2582</td>\n",
       "      <td>269</td>\n",
       "      <td>142</td>\n",
       "      <td>14</td>\n",
       "      <td>2517</td>\n",
       "      <td>12</td>\n",
       "    </tr>\n",
       "    <tr>\n",
       "      <th>2658</th>\n",
       "      <td>0.0</td>\n",
       "      <td>7.0</td>\n",
       "      <td>1968.0</td>\n",
       "      <td>1.0</td>\n",
       "      <td>8.0</td>\n",
       "      <td>62993.0</td>\n",
       "      <td>94948.0</td>\n",
       "      <td>84838.0</td>\n",
       "      <td>15401.0</td>\n",
       "      <td>5837.0</td>\n",
       "      <td>...</td>\n",
       "      <td>1.0</td>\n",
       "      <td>0.0</td>\n",
       "      <td>-122.336395</td>\n",
       "      <td>47.605710</td>\n",
       "      <td>2583</td>\n",
       "      <td>1683</td>\n",
       "      <td>277</td>\n",
       "      <td>24</td>\n",
       "      <td>2518</td>\n",
       "      <td>7</td>\n",
       "    </tr>\n",
       "  </tbody>\n",
       "</table>\n",
       "<p>5 rows × 22 columns</p>\n",
       "</div>"
      ],
      "text/plain": [
       "      DefaultData  CouncilDistrictCode  YearBuilt  NumberofBuildings  \\\n",
       "2654          0.0                  4.0     1955.0                1.0   \n",
       "2655          0.0                  7.0     2009.0                1.0   \n",
       "2656          0.0                  6.0     1960.0                1.0   \n",
       "2657          0.0                  6.0     1922.0                1.0   \n",
       "2658          0.0                  7.0     1968.0                1.0   \n",
       "\n",
       "      NumberofFloors  PropertyGFAParking  PropertyGFABuilding(s)  \\\n",
       "2654             2.0                 0.0                126394.0   \n",
       "2655             3.0                 0.0                 23241.0   \n",
       "2656             1.0                 0.0                 20678.0   \n",
       "2657             3.0                 0.0                 28820.0   \n",
       "2658             8.0             62993.0                 94948.0   \n",
       "\n",
       "      LargestPropertyUseTypeGFA  SecondLargestPropertyUseTypeGFA  \\\n",
       "2654                    26225.0                          11737.0   \n",
       "2655                    23241.0                          11737.0   \n",
       "2656                    23100.0                          11737.0   \n",
       "2657                    33780.0                          11737.0   \n",
       "2658                    84838.0                          15401.0   \n",
       "\n",
       "      ThirdLargestPropertyUseTypeGFA  ...  Electricity(kBtu)  \\\n",
       "2654                          5837.0  ...                1.0   \n",
       "2655                          5837.0  ...                1.0   \n",
       "2656                          5837.0  ...                1.0   \n",
       "2657                          5837.0  ...                1.0   \n",
       "2658                          5837.0  ...                1.0   \n",
       "\n",
       "      NaturalGas(kBtu)   Longitude   Latitude  PropertyName  \\\n",
       "2654               1.0 -122.296123  47.662703          2579   \n",
       "2655               1.0 -122.353210  47.618847          2580   \n",
       "2656               1.0 -122.356740  47.686020          2581   \n",
       "2657               1.0 -122.357070  47.686420          2582   \n",
       "2658               0.0 -122.336395  47.605710          2583   \n",
       "\n",
       "      TaxParcelIdentificationNumber  ListOfAllPropertyUseTypes  \\\n",
       "2654                           1680                        362   \n",
       "2655                           1838                        369   \n",
       "2656                           1769                        242   \n",
       "2657                            269                        142   \n",
       "2658                           1683                        277   \n",
       "\n",
       "      LargestPropertyUseType  Address  ZipCode  \n",
       "2654                      48     2514       15  \n",
       "2655                      55     2515       23  \n",
       "2656                      24     2516       12  \n",
       "2657                      14     2517       12  \n",
       "2658                      24     2518        7  \n",
       "\n",
       "[5 rows x 22 columns]"
      ]
     },
     "execution_count": 226,
     "metadata": {},
     "output_type": "execute_result"
    }
   ],
   "source": [
    "bunch_test.head()"
   ]
  },
  {
   "cell_type": "code",
   "execution_count": 227,
   "metadata": {},
   "outputs": [],
   "source": [
    "#listes d'encodeurs\n",
    "OH_encoder = OneHotEncoder(handle_unknown='ignore')#One-Hot-Encoding\n",
    "CE_encoder = ce.CountEncoder()#Count Encoding\n",
    "TE_encoder = ce.TargetEncoder(cols=categorical_cols_other)#Target Encoding\n",
    "CatB_encode = ce.CatBoostEncoder(cols=categorical_cols_other)#CatBoost Encoding"
   ]
  },
  {
   "cell_type": "code",
   "execution_count": 228,
   "metadata": {},
   "outputs": [],
   "source": [
    "encoder_names = []\n",
    "encoder_names.append(\"One hot encoding\")\n",
    "encoder_names.append(\"Count encoding\")\n",
    "encoder_names.append(\"Target encoding\")\n",
    "encoder_names.append(\"CatBoost encoding\")"
   ]
  },
  {
   "cell_type": "code",
   "execution_count": 229,
   "metadata": {},
   "outputs": [],
   "source": [
    "#listes d'estimateurs\n",
    "lr = Ridge(alpha=1.0)#Linear Regressor Ridge\n",
    "svr = SVR(kernel=\"rbf\", gamma='scale', C=1.0)#SVM regressor\n",
    "rf = RandomForestRegressor(max_depth=2, n_estimators=100, random_state=0)#Random Forest\n",
    "gb = GradientBoostingRegressor(max_depth=2, n_estimators=100, learning_rate=0.1, loss='ls')#Gradient Boosting"
   ]
  },
  {
   "cell_type": "code",
   "execution_count": 230,
   "metadata": {},
   "outputs": [],
   "source": [
    "models = []\n",
    "\n",
    "models.append(lr)\n",
    "models.append(svr)\n",
    "models.append(rf)\n",
    "models.append(gb)\n",
    "\n",
    "model_names = []\n",
    "model_names.append(\"Linear regressor Ridge\")\n",
    "model_names.append(\"SVM regressor\")\n",
    "model_names.append(\"Random Forest Regressor\")\n",
    "model_names.append(\"Gradient Boosting Regressor\")\n",
    "\n",
    "errors_encoding = []"
   ]
  },
  {
   "cell_type": "code",
   "execution_count": 231,
   "metadata": {},
   "outputs": [],
   "source": [
    "bars = {\"Linear regressor Ridge\" : [], \"SVM regressor\": [], \"Random Forest Regressor\": [],\n",
    "        \"Gradient Boosting Regressor\": [], \"Total moyen\": []}"
   ]
  },
  {
   "cell_type": "code",
   "execution_count": 232,
   "metadata": {},
   "outputs": [
    {
     "name": "stdout",
     "output_type": "stream",
     "text": [
      "Temps total d'execution : 2.621077537536621 secondes\n",
      "RMSE : 0.9446605034364168\n"
     ]
    }
   ],
   "source": [
    "import time\n",
    "X_tr = bunch_train.join(X_train[categorical_cols_other])\n",
    "X_te = bunch_test.join(X_test[categorical_cols_other])\n",
    "\n",
    "#one hot encoding\n",
    "sum_error = 0\n",
    "errors = []\n",
    "start_time = time.time()\n",
    "i = 0\n",
    "for model in models:\n",
    "    my_pipeline = Pipeline(steps=[('encoder', OH_encoder), ('model', model)])\n",
    "    my_pipeline.fit(X_tr, y_train)\n",
    "    y_preds = my_pipeline.predict(X_te)\n",
    "    error = np.sqrt(metrics.mean_squared_error(y_test, y_preds))\n",
    "    errors.append(error)\n",
    "    sum_error += error\n",
    "    bars[model_names[i]].append(error)\n",
    "    i += 1\n",
    "error_encoding = sum_error/len(models)\n",
    "errors_encoding.append(error_encoding)\n",
    "print(\"Temps total d'execution : %s secondes\" % (time.time() - start_time))\n",
    "bars[\"Total moyen\"].append(error_encoding)\n",
    "print(\"RMSE : {}\".format(error_encoding))"
   ]
  },
  {
   "cell_type": "code",
   "execution_count": 233,
   "metadata": {},
   "outputs": [
    {
     "name": "stdout",
     "output_type": "stream",
     "text": [
      "Temps d'execution : 0.9229955673217773 secondes\n",
      "RMSE : 1.0026417603104978\n"
     ]
    }
   ],
   "source": [
    "#Count encoding\n",
    "ixtr = X_train.copy()\n",
    "ixte = X_test.copy()\n",
    "bxtr = bunch_train.copy()\n",
    "bxte = bunch_test.copy()\n",
    "\n",
    "d = pd.concat([ixtr[categorical_cols_other],ixte[categorical_cols_other]], \n",
    "              axis=0, join='inner', ignore_index=True)#fusion des lignes des variables à encoder\n",
    "\n",
    "d2 = pd.concat([bxtr, bxte], axis=0, join='inner', ignore_index=True)#fusion des bunchs train et test\n",
    "\n",
    "start_time = time.time()\n",
    "count_encoded = CE_encoder.fit_transform(d[categorical_cols_other])\n",
    "\n",
    "data = d2.join(count_encoded.add_suffix(\"_count\")) \n",
    "\n",
    "X_tr = data[:SIZE]\n",
    "X_te = data[SIZE:]\n",
    "\n",
    "sum_error = 0\n",
    "errors = []\n",
    "i = 0\n",
    "for model in models:\n",
    "    model.fit(X_tr, y_train)\n",
    "    y_preds = model.predict(X_te)\n",
    "    error = np.sqrt(metrics.mean_squared_error(y_test, y_preds))\n",
    "    errors.append(error)\n",
    "    sum_error += error\n",
    "    bars[model_names[i]].append(error)\n",
    "    i += 1\n",
    "error_encoding = sum_error/len(models)\n",
    "errors_encoding.append(error_encoding)\n",
    "print(\"Temps d'execution : %s secondes\" % (time.time() - start_time))\n",
    "bars[\"Total moyen\"].append(error_encoding)\n",
    "print(\"RMSE : {}\".format(error_encoding))"
   ]
  },
  {
   "cell_type": "code",
   "execution_count": 234,
   "metadata": {},
   "outputs": [
    {
     "name": "stdout",
     "output_type": "stream",
     "text": [
      "Temps d'execution : 1.0284674167633057 secondes\n",
      "RMSE : 0.9628449500696181\n"
     ]
    }
   ],
   "source": [
    "#Target encoding\n",
    "ixtr = X_train.copy()\n",
    "ixte = X_test.copy()\n",
    "bxtr = bunch_train.copy()\n",
    "bxte = bunch_test.copy()\n",
    "\n",
    "start_time = time.time()\n",
    "\n",
    "TE_encoder.fit(ixtr[categorical_cols_other], y_train)\n",
    "\n",
    "X_tr = bxtr.join(TE_encoder.transform(ixtr[categorical_cols_other]).add_suffix('_target'))\n",
    "X_te = bxte.join(TE_encoder.transform(ixte[categorical_cols_other]).add_suffix('_target'))\n",
    "\n",
    "#print(target_encoded_train)\n",
    "sum_error = 0\n",
    "errors = []\n",
    "i = 0\n",
    "for model in models:\n",
    "    model.fit(X_tr, y_train)\n",
    "    y_preds = model.predict(X_te)\n",
    "    error = np.sqrt(metrics.mean_squared_error(y_test, y_preds))\n",
    "    errors.append(error)\n",
    "    sum_error += error\n",
    "    bars[model_names[i]].append(error)\n",
    "    i += 1\n",
    "error_encoding = sum_error/len(models)\n",
    "errors_encoding.append(error_encoding)\n",
    "print(\"Temps d'execution : %s secondes\" % (time.time() - start_time))\n",
    "bars[\"Total moyen\"].append(error_encoding)\n",
    "print(\"RMSE : {}\".format(error_encoding))"
   ]
  },
  {
   "cell_type": "code",
   "execution_count": 235,
   "metadata": {},
   "outputs": [
    {
     "name": "stdout",
     "output_type": "stream",
     "text": [
      "Temps d execution : 1.1140642166137695 secondes\n",
      "RMSE : 0.9622661697655096\n"
     ]
    }
   ],
   "source": [
    "#CatBoost encoding\n",
    "ixtr = X_train.copy()\n",
    "ixte = X_test.copy()\n",
    "bxtr = bunch_train.copy()\n",
    "bxte = bunch_test.copy()\n",
    "\n",
    "start_time = time.time()\n",
    "\n",
    "CatB_encode.fit(ixtr[categorical_cols_other], y_train)\n",
    "X_tr = bxtr.join(CatB_encode.transform(ixtr[categorical_cols_other]).add_suffix('_CB'))\n",
    "X_te = bxte.join(CatB_encode.transform(ixte[categorical_cols_other]).add_suffix('_CB'))\n",
    "\n",
    "sum_error = 0\n",
    "errors = []\n",
    "i = 0\n",
    "for model in models:\n",
    "    model.fit(X_tr, y_train)\n",
    "    y_preds = model.predict(X_te)\n",
    "    error = np.sqrt(metrics.mean_squared_error(y_test, y_preds))\n",
    "    errors.append(error)\n",
    "    sum_error += error\n",
    "    bars[model_names[i]].append(error)\n",
    "    i += 1\n",
    "error_encoding = sum_error/len(models)\n",
    "errors_encoding.append(error_encoding)\n",
    "print(\"Temps d execution : %s secondes\" % (time.time() - start_time))\n",
    "bars[\"Total moyen\"].append(error_encoding)\n",
    "print(\"RMSE : {}\".format(error_encoding))"
   ]
  },
  {
   "cell_type": "code",
   "execution_count": 236,
   "metadata": {},
   "outputs": [
    {
     "data": {
      "image/png": "[encoded data removed]",
      "text/plain": [
       "<Figure size 1008x432 with 1 Axes>"
      ]
     },
     "metadata": {},
     "output_type": "display_data"
    }
   ],
   "source": [
    "fig, ax = plt.subplots(figsize=(14, 6))\n",
    "barWidth = 0.15\n",
    "r1 = np.arange(4)\n",
    "r2 = [x + barWidth for x in r1]\n",
    "r3 = [x + barWidth for x in r2]\n",
    "r4 = [x + barWidth for x in r3]\n",
    "r5 = [x + barWidth for x in r4]\n",
    "\n",
    "rects1 = ax.bar(r1, bars[model_names[0]], color=\"#2F4F4F\", width=barWidth, edgecolor='white', label=\"Ridge\")\n",
    "rects2 = ax.bar(r2, bars[model_names[1]], color='#C0C0C0', width=barWidth, edgecolor='white', label=\"SVM\")\n",
    "rects3 = ax.bar(r3, bars[model_names[2]], color='#778899', width=barWidth, edgecolor='white', label=\"R.Forest\")\n",
    "rects4 = ax.bar(r4, bars[model_names[3]], color='#808080', width=barWidth, edgecolor='white', label=\"G.Boosting\")\n",
    "rects5 = ax.bar(r5, bars[\"Total moyen\"], color='red', width=barWidth, edgecolor='white', label=\"Total moyen\")\n",
    "\n",
    "\n",
    "# Add xticks on the middle of the group bars\n",
    "ax.set_xlabel('Encodage', fontweight='bold')\n",
    "ax.set_ylabel('RMSE', fontweight='bold')\n",
    "ax.set_xticks([r + barWidth*2 for r in range(5)])\n",
    "ax.set_xticklabels(['One hot encoding', 'Count encoding', 'Target encoding', 'CatBoost encoding'])\n",
    " \n",
    "# Create legend & Show graphic\n",
    "ax.legend()\n",
    "\n",
    "def autolabel(rects):\n",
    "    \"\"\"Attach a text label above each bar in *rects*, displaying its height.\"\"\"\n",
    "    for rect in rects:\n",
    "        height = rect.get_height()\n",
    "        ax.annotate('%.2f'%height,\n",
    "                    xy=(rect.get_x() + rect.get_width() / 2, height),\n",
    "                    xytext=(0, 3),  # 3 points vertical offset\n",
    "                    textcoords=\"offset points\",\n",
    "                    ha='center', va='bottom')\n",
    "autolabel(rects1)\n",
    "autolabel(rects2)\n",
    "autolabel(rects3)\n",
    "autolabel(rects4)\n",
    "autolabel(rects5)\n",
    "\n",
    "plt.show()"
   ]
  },
  {
   "cell_type": "code",
   "execution_count": 237,
   "metadata": {},
   "outputs": [],
   "source": [
    "### ajout le meilleur encodage\n",
    "X_tr = X_train[categorical_cols_other]\n",
    "X_te = X_test[categorical_cols_other]\n",
    "\n",
    "OH_cols_train = pd.DataFrame(OH_encoder.fit_transform(X_tr).toarray())\n",
    "OH_cols_test = pd.DataFrame(OH_encoder.transform(X_te).toarray())\n",
    "\n",
    "# Remettre les index des lignes\n",
    "OH_cols_train.index = X_tr.index\n",
    "OH_cols_test.index = X_te.index\n",
    "\n",
    "#création des noms de colonnes\n",
    "names_cols = []\n",
    "for k in list(OH_cols_train.columns):\n",
    "    names_cols.append(\"OH{}\".format(k))\n",
    "    \n",
    "#renommer les colonnes    \n",
    "OH_cols_train.columns = names_cols\n",
    "OH_cols_test.columns = names_cols\n",
    "\n",
    "#Ajout dans le bunch de feature\n",
    "bunch_train = bunch_train.join(OH_cols_train)\n",
    "bunch_test = bunch_test.join(OH_cols_test)"
   ]
  },
  {
   "cell_type": "code",
   "execution_count": 238,
   "metadata": {},
   "outputs": [
    {
     "name": "stdout",
     "output_type": "stream",
     "text": [
      "(2654, 25)\n",
      "['CouncilDistrictCode', 'YearBuilt', 'NumberofBuildings', 'NumberofFloors', 'ENERGYSTARScore', 'SteamUse(kBtu)', 'NaturalGas(kBtu)', 'PropertyName', 'TaxParcelIdentificationNumber', 'ListOfAllPropertyUseTypes', 'LargestPropertyUseType', 'Address', 'ZipCode', 'OH1', 'OH5', 'OH7', 'OH10', 'OH14', 'OH16', 'OH22', 'OH24', 'OH25', 'OH27', 'OH28', 'OH34']\n"
     ]
    }
   ],
   "source": [
    "#Régularisation L1\n",
    "X = bunch_train.copy()\n",
    "y = y_train.copy()\n",
    "regL = Lasso(alpha=0.015).fit(X, y)\n",
    "model = SelectFromModel(regL, prefit=True)\n",
    "X_new = model.transform(X)\n",
    "print(X_new.shape)\n",
    "\n",
    "selected_features = pd.DataFrame(model.inverse_transform(X_new), index=X.index,columns=X.columns)\n",
    "# Dropped columns have values of all 0s, keep other columns \n",
    "selected_columns = selected_features.columns[selected_features.var() != 0]\n",
    "print(list(selected_columns))"
   ]
  },
  {
   "cell_type": "code",
   "execution_count": 239,
   "metadata": {},
   "outputs": [],
   "source": [
    "bunch_train_breakpoint = bunch_train.copy()\n",
    "bunch_test_breakpoint = bunch_test.copy()"
   ]
  },
  {
   "cell_type": "code",
   "execution_count": 240,
   "metadata": {},
   "outputs": [],
   "source": [
    "bunch_train = bunch_train_breakpoint.copy()\n",
    "bunch_test = bunch_test_breakpoint.copy()"
   ]
  },
  {
   "cell_type": "code",
   "execution_count": 241,
   "metadata": {},
   "outputs": [],
   "source": [
    "bunch_train = bunch_train[selected_columns]\n",
    "bunch_test = bunch_test[selected_columns]"
   ]
  },
  {
   "cell_type": "code",
   "execution_count": 242,
   "metadata": {},
   "outputs": [
    {
     "data": {
      "text/plain": [
       "(2654, 25)"
      ]
     },
     "execution_count": 242,
     "metadata": {},
     "output_type": "execute_result"
    }
   ],
   "source": [
    "bunch_train.shape"
   ]
  },
  {
   "cell_type": "code",
   "execution_count": 243,
   "metadata": {},
   "outputs": [],
   "source": [
    "std = preprocessing.StandardScaler()"
   ]
  },
  {
   "cell_type": "code",
   "execution_count": 244,
   "metadata": {},
   "outputs": [
    {
     "name": "stdout",
     "output_type": "stream",
     "text": [
      "RMSE Mean DummyRegressor: 1.46, runtime: 0.01s\n",
      "RMSE Median DummyRegressor: 1.47, runtime: 0.00s\n"
     ]
    }
   ],
   "source": [
    "X_train = bunch_train.copy()\n",
    "X_test =  bunch_test.copy()\n",
    "\n",
    "#definir les modèles baselines\n",
    "start_time = time.time()\n",
    "dum_mean = dummy.DummyRegressor(strategy='mean')\n",
    "my_pipeline = Pipeline(steps=[('preprocessor', std), ('model', dum_mean)])\n",
    "my_pipeline.fit(X_train, y_train)\n",
    "y_pred_mean = my_pipeline.predict(X_test)\n",
    "rmse_mean = np.sqrt(metrics.mean_squared_error(y_test, y_pred_mean))\n",
    "time_mean = time.time() - start_time\n",
    "\n",
    "start_time = time.time()\n",
    "dum_median = dummy.DummyRegressor(strategy='median')\n",
    "my_pipeline2 = Pipeline(steps=[('preprocessor', std), ('model', dum_median)])\n",
    "my_pipeline2.fit(X_train, y_train)\n",
    "y_pred_median = my_pipeline2.predict(X_test)\n",
    "rmse_median = np.sqrt(metrics.mean_squared_error(y_test, y_pred_median))\n",
    "time_median = time.time() - start_time\n",
    "\n",
    "print(\"RMSE Mean DummyRegressor: %.2f, runtime: %.2fs\" % (rmse_mean, time_mean))\n",
    "print(\"RMSE Median DummyRegressor: %.2f, runtime: %.2fs\" % (rmse_median, time_median))"
   ]
  },
  {
   "cell_type": "code",
   "execution_count": 250,
   "metadata": {},
   "outputs": [
    {
     "name": "stdout",
     "output_type": "stream",
     "text": [
      "RMSE Linear Regression ridge: 1.03, runtime: 1.03s\n",
      "Best params : {'alpha': 210.49041445120218}\n"
     ]
    }
   ],
   "source": [
    "X_train = bunch_train.copy()\n",
    "X_test =  bunch_test.copy()\n",
    "\n",
    "start_time = time.time()\n",
    "param_grid_ridge = {'alpha':np.logspace(-10, 10, 100)}\n",
    "lr = linear_model.Ridge()#linear regression ridge\n",
    "grid_pred_ridge = model_selection.GridSearchCV(lr, param_grid_ridge, cv=5)\n",
    "\n",
    "my_pipeline3 = Pipeline(steps=[('preprocessor', std), ('model', grid_pred_ridge)])\n",
    "\n",
    "my_pipeline3.fit(X_train, y_train)\n",
    "\n",
    "y_pred_linear = my_pipeline3.predict(X_test)\n",
    "\n",
    "rmse_lr = np.sqrt(metrics.mean_squared_error(y_test, y_pred_linear))\n",
    "time_lr = time.time() - start_time\n",
    "\n",
    "#récupération des paramètres\n",
    "lrp = grid_pred_ridge.best_params_[\"alpha\"]\n",
    "\n",
    "print(\"RMSE Linear Regression ridge: %.2f, runtime: %.2fs\" % (rmse_lr, time_lr))\n",
    "print(\"Best params : {}\".format(grid_pred_ridge.best_params_))"
   ]
  },
  {
   "cell_type": "code",
   "execution_count": 255,
   "metadata": {},
   "outputs": [
    {
     "name": "stdout",
     "output_type": "stream",
     "text": [
      "RMSE Random Forest: 0.92, runtime: 293.34s\n",
      "Best params : {'max_depth': 17, 'n_estimators': 1000}\n"
     ]
    }
   ],
   "source": [
    "X_train = bunch_train.copy()\n",
    "X_test = bunch_test.copy()\n",
    "\n",
    "start_time = time.time()\n",
    "param_grid_rd = {'max_depth' : np.arange(16, 18), 'n_estimators' : np.arange(500, 2000, 500)}\n",
    "rf = RandomForestRegressor(random_state=0)#random Forest regressor\n",
    "grid_pred_rf = model_selection.GridSearchCV(rf, param_grid_rd, cv=5)\n",
    "\n",
    "my_pipeline4 = Pipeline(steps=[('preprocessor', std), ('model', grid_pred_rf)])\n",
    "\n",
    "my_pipeline4.fit(X_train, y_train)\n",
    "\n",
    "y_pred_rf = my_pipeline4.predict(X_test)\n",
    "\n",
    "rmse_rf = np.sqrt(metrics.mean_squared_error(y_test, y_pred_rf))\n",
    "time_rf = time.time() - start_time\n",
    "\n",
    "#récupération des paramètres\n",
    "rfparam1 = grid_pred_rf.best_params_[\"max_depth\"]\n",
    "rfparam2 = grid_pred_rf.best_params_[\"n_estimators\"]\n",
    "\n",
    "print(\"RMSE Random Forest: %.2f, runtime: %.2fs\" % (rmse_rf, time_rf))\n",
    "print(\"Best params : {}\".format(grid_pred_rf.best_params_))"
   ]
  },
  {
   "cell_type": "code",
   "execution_count": 263,
   "metadata": {},
   "outputs": [
    {
     "name": "stdout",
     "output_type": "stream",
     "text": [
      "RMSE Gradient Boosting: 1.24, runtime: 318s\n",
      "Best params : {'learning_rate': 0.05, 'max_depth': 6, 'n_estimators': 1600}\n"
     ]
    }
   ],
   "source": [
    "X_train = bunch_train.copy()\n",
    "X_test =  bunch_test.copy()\n",
    "\n",
    "start_time = time.time()\n",
    "param_grid_gb ={'n_estimators' : np.arange(1400, 1700, 50), 'max_depth' : np.arange(5,7), 'learning_rate' : [0.05]}\n",
    "gb = GradientBoostingRegressor(loss='ls')#Gradient boosting regressor\n",
    "grid_pred_gb = model_selection.GridSearchCV(gb, param_grid_gb, cv=5)\n",
    "\n",
    "my_pipeline5 = Pipeline(steps=[('preprocessor', std), ('model', grid_pred_gb)])\n",
    "\n",
    "my_pipeline5.fit(X_train, y_train)\n",
    "\n",
    "y_pred_gb = my_pipeline5.predict(X_test)\n",
    "\n",
    "rmse_gb = np.sqrt(metrics.mean_squared_error(y_test, y_pred_gb))\n",
    "time_gb = time.time() - start_time\n",
    "\n",
    "#récupération des paramètres\n",
    "gbparam1 = grid_pred_gb.best_params_[\"n_estimators\"]\n",
    "gbparam2 = grid_pred_gb.best_params_[\"max_depth\"]\n",
    "gbparam3 = grid_pred_gb.best_params_[\"learning_rate\"]\n",
    "\n",
    "print(\"RMSE Gradient Boosting: %.2f, runtime: %2.fs\" % (rmse_gb, time_gb))\n",
    "print(\"Best params : {}\".format(grid_pred_gb.best_params_))"
   ]
  },
  {
   "cell_type": "code",
   "execution_count": 264,
   "metadata": {},
   "outputs": [
    {
     "name": "stdout",
     "output_type": "stream",
     "text": [
      "RMSE SVM Regressor: 1.17, runtime: 85s\n",
      "Best params : {'C': 10.0, 'gamma': 0.1}\n"
     ]
    }
   ],
   "source": [
    "X_train = bunch_train.copy()\n",
    "X_test =  bunch_test.copy()\n",
    "\n",
    "start_time = time.time()\n",
    "param_grid_svm ={'C' : [1e0, 1e1, 1e2, 1e3], 'gamma': np.logspace(-2, 2, 5)}\n",
    "svm = SVR(kernel=\"rbf\")#SVM regressor\n",
    "grid_pred_svm = model_selection.GridSearchCV(svm, param_grid_svm, cv=5)\n",
    "\n",
    "my_pipeline6 = Pipeline(steps=[('preprocessor', std), ('model', grid_pred_svm)])\n",
    "\n",
    "my_pipeline6.fit(X_train, y_train)\n",
    "\n",
    "y_pred_svm = my_pipeline6.predict(X_test)\n",
    "\n",
    "rmse_svm = np.sqrt(metrics.mean_squared_error(y_test, y_pred_svm))\n",
    "time_svm = time.time() - start_time\n",
    "\n",
    "#récupération des paramètres\n",
    "svmparam1 = grid_pred_svm.best_params_[\"C\"]\n",
    "svmparam2 = grid_pred_svm.best_params_[\"gamma\"]\n",
    "\n",
    "print(\"RMSE SVM Regressor: %.2f, runtime: %2.fs\" % (rmse_svm, time_svm))\n",
    "print(\"Best params : {}\".format(grid_pred_svm.best_params_))"
   ]
  },
  {
   "cell_type": "code",
   "execution_count": 265,
   "metadata": {},
   "outputs": [
    {
     "data": {
      "image/png": "[encoded data removed]",
      "text/plain": [
       "<Figure size 720x288 with 1 Axes>"
      ]
     },
     "metadata": {},
     "output_type": "display_data"
    }
   ],
   "source": [
    "names = [\"dummy mean\", \"dummy median\", \"linear ridge\", \"random forest\", \"gradient boosting\", \"svm\"]\n",
    "values = [rmse_mean, rmse_median, rmse_lr, rmse_rf, rmse_gb, rmse_svm]\n",
    "\n",
    "indices = np.argsort(values)[::-1]\n",
    "\n",
    "x = []\n",
    "y = []\n",
    "for i in indices:\n",
    "    x.append(values[i])\n",
    "    y.append(names[i])\n",
    "\n",
    "fig, ax = plt.subplots(figsize=(10, 4))    \n",
    "width = 0.50 # the width of the bars \n",
    "ind = np.arange(len(x))  # the x locations for the groups\n",
    "ax.barh(ind, x, width)\n",
    "ax.set_yticks(ind)\n",
    "ax.set_yticklabels(y, minor=False)\n",
    "plt.title('Performances des différents modèles')\n",
    "plt.xlabel(\"RMSE\")\n",
    "for i, v in enumerate(x):\n",
    "    ax.text(v, i-.1, str(round(v,2)))\n",
    "\n",
    "plt.show()"
   ]
  },
  {
   "cell_type": "code",
   "execution_count": 266,
   "metadata": {},
   "outputs": [
    {
     "name": "stdout",
     "output_type": "stream",
     "text": [
      "Runtime Mean DummyRegressor : 0.0 s\n",
      "Runtime Median DummyRegressor : 0.0010232925415039062 s\n",
      "Runtime Linear Regression ridge : 0.003962516784667969 s\n",
      "Runtime Random Forest : 0.29122090339660645 s\n",
      "Runtime Gradient Boosting : 7.546828508377075 s\n",
      "Runtime SVM Regressor : 0.7639827728271484 s\n"
     ]
    },
    {
     "data": {
      "image/png": "[encoded data removed]",
      "text/plain": [
       "<Figure size 432x288 with 1 Axes>"
      ]
     },
     "metadata": {},
     "output_type": "display_data"
    }
   ],
   "source": [
    "X_train = bunch_train.copy()\n",
    "X_test =  bunch_test.copy()\n",
    "\n",
    "start_time = time.time()\n",
    "dum_mean = dummy.DummyRegressor(strategy='mean')\n",
    "dum_mean.fit(X_train, y_train)\n",
    "y_pred_mean = dum_mean.predict(X_test)\n",
    "time_mean = time.time() - start_time\n",
    "rmse_mean = np.sqrt(metrics.mean_squared_error(y_test, y_pred_mean))\n",
    "print(\"Runtime Mean DummyRegressor : {} s\".format(time_mean, rmse_mean))\n",
    "\n",
    "start_time = time.time()\n",
    "dum_median = dummy.DummyRegressor(strategy='median')\n",
    "dum_median.fit(X_train, y_train)\n",
    "y_pred_median = dum_median.predict(X_test)\n",
    "time_median = time.time() - start_time\n",
    "rmse_median = np.sqrt(metrics.mean_squared_error(y_test, y_pred_median))\n",
    "print(\"Runtime Median DummyRegressor : {} s\".format(time_median, rmse_median))\n",
    "\n",
    "start_time = time.time()\n",
    "lr = linear_model.Ridge(alpha=lrp).fit(X_train, y_train)\n",
    "y_pred_linear = lr.predict(X_test)\n",
    "time_lr = time.time() - start_time\n",
    "rmse_lr = np.sqrt(metrics.mean_squared_error(y_test, y_pred_linear))\n",
    "print(\"Runtime Linear Regression ridge : {} s\".format(time_lr, rmse_lr))\n",
    "\n",
    "start_time = time.time()\n",
    "rf = RandomForestRegressor(n_estimators=rfparam1, max_depth=rfparam2,  random_state=0).fit(X_train, y_train)\n",
    "y_pred_rf = rf.predict(X_test)\n",
    "time_rf = time.time() - start_time\n",
    "rmse_rf = np.sqrt(metrics.mean_squared_error(y_test, y_pred_rf))\n",
    "print(\"Runtime Random Forest : {} s\".format(time_rf, rmse_rf))\n",
    "\n",
    "start_time = time.time()\n",
    "gbr = GradientBoostingRegressor(n_estimators = gbparam1, max_depth=gbparam2,learning_rate=gbparam3,\n",
    "                                loss='ls').fit(X_train, y_train)\n",
    "y_pred_gb = gbr.predict(X_test)\n",
    "time_gb = time.time() - start_time\n",
    "rmse_gb = np.sqrt(metrics.mean_squared_error(y_test, y_pred_gb))\n",
    "print(\"Runtime Gradient Boosting : {} s\".format(time_gb, rmse_gb))\n",
    "\n",
    "start_time = time.time()\n",
    "svm = SVR(kernel=\"rbf\", C=svmparam1, gamma=svmparam2).fit(X_train, y_train)\n",
    "y_pred_svm = svm.predict(X_test)\n",
    "time_svm = time.time() - start_time\n",
    "rmse_svm = np.sqrt(metrics.mean_squared_error(y_test, y_pred_svm))\n",
    "print(\"Runtime SVM Regressor : {} s\".format(time_svm, rmse_svm))\n",
    "\n",
    "names = [\"dummy mean\", \"dummy median\", \"linear ridge\", \"random forest\", \"gradient boosting\", \"svm\"]\n",
    "values = [time_mean, time_median, time_lr, time_rf, time_gb, time_svm]\n",
    "\n",
    "indices = np.argsort(values)[::-1]\n",
    "x = []\n",
    "y = []\n",
    "for i in indices:\n",
    "    x.append(values[i])\n",
    "    y.append(names[i])\n",
    "\n",
    "plt.xlabel(\"temps d'éxécution en seconde\")\n",
    "plt.barh(y, x)\n",
    "plt.show()"
   ]
  },
  {
   "cell_type": "code",
   "execution_count": 270,
   "metadata": {},
   "outputs": [
    {
     "name": "stdout",
     "output_type": "stream",
     "text": [
      "Feature ranking:\n",
      "1. feature:NaturalGas(kBtu) (0.199218)\n",
      "2. feature:NumberofFloors (0.179517)\n",
      "3. feature:SteamUse(kBtu) (0.079309)\n",
      "4. feature:YearBuilt (0.058828)\n",
      "5. feature:ENERGYSTARScore (0.056741)\n",
      "6. feature:ListOfAllPropertyUseTypes (0.054612)\n",
      "7. feature:Address (0.050955)\n",
      "8. feature:PropertyName (0.046528)\n",
      "9. feature:OH10 (0.045860)\n",
      "10. feature:LargestPropertyUseType (0.044481)\n",
      "11. feature:TaxParcelIdentificationNumber (0.044031)\n",
      "12. feature:ZipCode (0.030360)\n",
      "13. feature:OH25 (0.020605)\n",
      "14. feature:NumberofBuildings (0.020341)\n",
      "15. feature:OH24 (0.014023)\n"
     ]
    },
    {
     "data": {
      "text/plain": [
       "<BarContainer object of 15 artists>"
      ]
     },
     "execution_count": 270,
     "metadata": {},
     "output_type": "execute_result"
    },
    {
     "data": {
      "image/png": "[encoded data removed]",
      "text/plain": [
       "<Figure size 720x288 with 1 Axes>"
      ]
     },
     "metadata": {},
     "output_type": "display_data"
    }
   ],
   "source": [
    "#importance des features\n",
    "X_train = bunch_train.copy()\n",
    "X_test =  bunch_test.copy()\n",
    "\n",
    "rf = RandomForestRegressor(n_estimators=rfparam1, max_depth=rfparam2,  random_state=0).fit(X_train, y_train)\n",
    "\n",
    "feature_importances = rf.feature_importances_\n",
    "\n",
    "indices = np.argsort(feature_importances)[-15:]\n",
    "\n",
    "# Print the feature ranking\n",
    "print(\"Feature ranking:\")\n",
    "j = 1\n",
    "x = []\n",
    "y = []\n",
    "for i in reversed(list(indices)):\n",
    "    y.append(feature_importances[i])\n",
    "    x.append(list(X_train.columns)[i])\n",
    "    print(\"%d. feature:%s (%f)\" % (j, list(X_train.columns)[i], feature_importances[i]))\n",
    "    j += 1\n",
    "x.reverse()\n",
    "y.reverse()\n",
    "plt.figure(figsize=(10, 4))\n",
    "plt.xticks(rotation=90)\n",
    "plt.title(\"Feature importances\")\n",
    "plt.barh(x, y, color=\"r\", align='center')"
   ]
  },
  {
   "cell_type": "code",
   "execution_count": 277,
   "metadata": {},
   "outputs": [
    {
     "data": {
      "image/png": "[encoded data removed]",
      "text/plain": [
       "<Figure size 720x360 with 1 Axes>"
      ]
     },
     "metadata": {},
     "output_type": "display_data"
    }
   ],
   "source": [
    "#Courbe d'apprentissage\n",
    "X_train = bunch_train.copy()\n",
    "X_test =  bunch_test.copy()\n",
    "#bunch = pd.concat([bunch_train, bunch_test], axis=0, join='inner', ignore_index=True)\n",
    "#y = df[\"TotalGHGEmissions\"]\n",
    "\n",
    "lr = linear_model.Ridge(alpha=lrp)\n",
    "rf = RandomForestRegressor(n_estimators=rfparam1, max_depth=rfparam2,  random_state=0)\n",
    "gbr = GradientBoostingRegressor(n_estimators = gbparam1, max_depth=gbparam2, learning_rate=gbparam3,\n",
    "                                loss='ls')\n",
    "svm = SVR(kernel=\"rbf\", C=svmparam1, gamma=svmparam2)\n",
    "\n",
    "train_sizes, train_scores_gbr, test_scores_gbr =  learning_curve(gbr, X_train, y_train, train_sizes=np.linspace(0.2, 1, 5), \n",
    "                                                                 scoring=\"neg_mean_squared_error\", cv=5)\n",
    "train_sizes_svm, train_scores_svm, test_scores_svm =  learning_curve(svm, X_train, y_train, train_sizes=np.linspace(0.2, 1, 5), \n",
    "                                                                 scoring=\"neg_mean_squared_error\", cv=5)\n",
    "train_sizes_lr, train_scores_lr, test_scores_lr =  learning_curve(lr, X_train, y_train, train_sizes=np.linspace(0.2, 1, 5), \n",
    "                                                                 scoring=\"neg_mean_squared_error\", cv=5)\n",
    "train_sizes_rf, train_scores_rf, test_scores_rf =  learning_curve(rf, X_train, y_train, train_sizes=np.linspace(0.2, 1, 5), \n",
    "                                                                 scoring=\"neg_mean_squared_error\", cv=5)\n",
    "\n",
    "scores_gbr = np.sqrt(-test_scores_gbr.mean(1))\n",
    "scores_svm = np.sqrt(-test_scores_svm.mean(1))\n",
    "scores_lr = np.sqrt(-test_scores_lr.mean(1))\n",
    "scores_rf = np.sqrt(-test_scores_rf.mean(1))\n",
    "\n",
    "plt.figure(figsize=(10, 5))\n",
    "plt.plot(train_sizes, scores_gbr, 'o-', color=\"r\", label=\"Gradient\")\n",
    "plt.plot(train_sizes, scores_svm, 'o-', color=\"g\", label=\"SVM\")\n",
    "plt.plot(train_sizes, scores_lr, 'o-', color=\"b\", label=\"Ridge\")\n",
    "plt.plot(train_sizes, scores_rf, 'o-', color=\"y\", label=\"Forest\")\n",
    "\n",
    "#scores = np.sqrt(-train_scores_gbr.mean(1))\n",
    "#plt.plot(train_sizes, scores, 'o-', color=\"g\")\n",
    "plt.xlabel(\"Train size\")\n",
    "plt.ylabel(\"Sqrt Mean Squared Error\")\n",
    "plt.title('Courbe apprentissage')\n",
    "plt.legend(loc=\"best\")\n",
    "\n",
    "plt.show()"
   ]
  },
  {
   "cell_type": "code",
   "execution_count": 278,
   "metadata": {},
   "outputs": [],
   "source": [
    "############################################# Consommation totale d'énergie ##################################################"
   ]
  },
  {
   "cell_type": "code",
   "execution_count": 279,
   "metadata": {},
   "outputs": [],
   "source": [
    "df = df_breakpoint.copy()"
   ]
  },
  {
   "cell_type": "code",
   "execution_count": 280,
   "metadata": {},
   "outputs": [
    {
     "name": "stdout",
     "output_type": "stream",
     "text": [
      "TotalGHGEmissions      14.185609\n",
      "SiteEnergyUse(kBtu)    17.501283\n",
      "dtype: float64\n"
     ]
    }
   ],
   "source": [
    "print(df[[\"TotalGHGEmissions\", \"SiteEnergyUse(kBtu)\"]].skew())"
   ]
  },
  {
   "cell_type": "code",
   "execution_count": 281,
   "metadata": {},
   "outputs": [],
   "source": [
    "for f in [\"TotalGHGEmissions\", \"SiteEnergyUse(kBtu)\"]:\n",
    "    df[f] = np.log1p(df[f])"
   ]
  },
  {
   "cell_type": "code",
   "execution_count": 282,
   "metadata": {},
   "outputs": [
    {
     "name": "stdout",
     "output_type": "stream",
     "text": [
      "TotalGHGEmissions      0.155362\n",
      "SiteEnergyUse(kBtu)   -3.320828\n",
      "dtype: float64\n"
     ]
    }
   ],
   "source": [
    "print(df[[\"TotalGHGEmissions\", \"SiteEnergyUse(kBtu)\"]].skew())"
   ]
  },
  {
   "cell_type": "code",
   "execution_count": 283,
   "metadata": {},
   "outputs": [],
   "source": [
    "y = df[\"SiteEnergyUse(kBtu)\"]\n",
    "X = df.drop([\"SiteEnergyUse(kBtu)\", \"OSEBuildingID\", \"SiteEUI(kBtu/sf)\", \"SourceEUI(kBtu/sf)\",\n",
    "             \"GHGEmissionsIntensity\", \"TotalGHGEmissions\"], axis=1)"
   ]
  },
  {
   "cell_type": "code",
   "execution_count": 284,
   "metadata": {},
   "outputs": [],
   "source": [
    "#Transformer les valeurs de la variable DefaultData: True par 1 et False par 0\n",
    "X.loc[X[\"DefaultData\"] == \"True\", \"DefaultData\"] = 1\n",
    "X.loc[X[\"DefaultData\"] == \"False\", \"DefaultData\"] = 0\n",
    "X[\"DefaultData\"] = X[\"DefaultData\"].astype(\"float64\")\n",
    "\n",
    "#traiter les variables Electricity, NaturalGas, SteamUse comme binaire; 1 si val > 0 et 0 sinon\n",
    "X.loc[X[\"SteamUse(kBtu)\"] > 0, \"SteamUse(kBtu)\"] = 1\n",
    "X.loc[X[\"Electricity(kBtu)\"] > 0, \"Electricity(kBtu)\"] = 1\n",
    "X.loc[X[\"NaturalGas(kBtu)\"] > 0, \"NaturalGas(kBtu)\"] = 1"
   ]
  },
  {
   "cell_type": "code",
   "execution_count": 285,
   "metadata": {},
   "outputs": [],
   "source": [
    "X_train = X[:SIZE]\n",
    "X_test = X[SIZE:]\n",
    "y_train = y[:SIZE]\n",
    "y_test = y[SIZE:]"
   ]
  },
  {
   "cell_type": "code",
   "execution_count": 286,
   "metadata": {},
   "outputs": [],
   "source": [
    "bunch_train = X_train[numerical_cols]\n",
    "bunch_test =  X_test[numerical_cols]"
   ]
  },
  {
   "cell_type": "code",
   "execution_count": 287,
   "metadata": {},
   "outputs": [
    {
     "data": {
      "text/html": [
       "<div>\n",
       "<style scoped>\n",
       "    .dataframe tbody tr th:only-of-type {\n",
       "        vertical-align: middle;\n",
       "    }\n",
       "\n",
       "    .dataframe tbody tr th {\n",
       "        vertical-align: top;\n",
       "    }\n",
       "\n",
       "    .dataframe thead th {\n",
       "        text-align: right;\n",
       "    }\n",
       "</style>\n",
       "<table border=\"1\" class=\"dataframe\">\n",
       "  <thead>\n",
       "    <tr style=\"text-align: right;\">\n",
       "      <th></th>\n",
       "      <th>DefaultData</th>\n",
       "      <th>CouncilDistrictCode</th>\n",
       "      <th>YearBuilt</th>\n",
       "      <th>NumberofBuildings</th>\n",
       "      <th>NumberofFloors</th>\n",
       "      <th>PropertyGFAParking</th>\n",
       "      <th>PropertyGFABuilding(s)</th>\n",
       "      <th>LargestPropertyUseTypeGFA</th>\n",
       "      <th>SecondLargestPropertyUseTypeGFA</th>\n",
       "      <th>ThirdLargestPropertyUseTypeGFA</th>\n",
       "      <th>ENERGYSTARScore</th>\n",
       "      <th>SteamUse(kBtu)</th>\n",
       "      <th>Electricity(kBtu)</th>\n",
       "      <th>NaturalGas(kBtu)</th>\n",
       "      <th>Longitude</th>\n",
       "      <th>Latitude</th>\n",
       "    </tr>\n",
       "  </thead>\n",
       "  <tbody>\n",
       "    <tr>\n",
       "      <th>0</th>\n",
       "      <td>0.0</td>\n",
       "      <td>4.0</td>\n",
       "      <td>1948.0</td>\n",
       "      <td>1.0</td>\n",
       "      <td>1.0</td>\n",
       "      <td>0.0</td>\n",
       "      <td>22778.0</td>\n",
       "      <td>21194.0</td>\n",
       "      <td>12923.0</td>\n",
       "      <td>3720.0</td>\n",
       "      <td>72.0</td>\n",
       "      <td>0.0</td>\n",
       "      <td>1.0</td>\n",
       "      <td>1.0</td>\n",
       "      <td>-122.276776</td>\n",
       "      <td>47.66811</td>\n",
       "    </tr>\n",
       "    <tr>\n",
       "      <th>1</th>\n",
       "      <td>0.0</td>\n",
       "      <td>6.0</td>\n",
       "      <td>2000.0</td>\n",
       "      <td>1.0</td>\n",
       "      <td>4.0</td>\n",
       "      <td>36528.0</td>\n",
       "      <td>53472.0</td>\n",
       "      <td>90000.0</td>\n",
       "      <td>11737.0</td>\n",
       "      <td>5837.0</td>\n",
       "      <td>84.0</td>\n",
       "      <td>0.0</td>\n",
       "      <td>1.0</td>\n",
       "      <td>0.0</td>\n",
       "      <td>-122.351580</td>\n",
       "      <td>47.64963</td>\n",
       "    </tr>\n",
       "    <tr>\n",
       "      <th>2</th>\n",
       "      <td>0.0</td>\n",
       "      <td>2.0</td>\n",
       "      <td>1963.0</td>\n",
       "      <td>1.0</td>\n",
       "      <td>1.0</td>\n",
       "      <td>0.0</td>\n",
       "      <td>100386.0</td>\n",
       "      <td>50628.0</td>\n",
       "      <td>49758.0</td>\n",
       "      <td>5837.0</td>\n",
       "      <td>72.0</td>\n",
       "      <td>0.0</td>\n",
       "      <td>1.0</td>\n",
       "      <td>1.0</td>\n",
       "      <td>-122.327410</td>\n",
       "      <td>47.56819</td>\n",
       "    </tr>\n",
       "    <tr>\n",
       "      <th>3</th>\n",
       "      <td>0.0</td>\n",
       "      <td>7.0</td>\n",
       "      <td>1947.0</td>\n",
       "      <td>1.0</td>\n",
       "      <td>2.0</td>\n",
       "      <td>0.0</td>\n",
       "      <td>22612.0</td>\n",
       "      <td>22612.0</td>\n",
       "      <td>11737.0</td>\n",
       "      <td>5837.0</td>\n",
       "      <td>87.0</td>\n",
       "      <td>0.0</td>\n",
       "      <td>1.0</td>\n",
       "      <td>1.0</td>\n",
       "      <td>-122.403200</td>\n",
       "      <td>47.63927</td>\n",
       "    </tr>\n",
       "    <tr>\n",
       "      <th>4</th>\n",
       "      <td>0.0</td>\n",
       "      <td>7.0</td>\n",
       "      <td>1914.0</td>\n",
       "      <td>1.0</td>\n",
       "      <td>4.0</td>\n",
       "      <td>0.0</td>\n",
       "      <td>45500.0</td>\n",
       "      <td>45500.0</td>\n",
       "      <td>11737.0</td>\n",
       "      <td>5837.0</td>\n",
       "      <td>77.0</td>\n",
       "      <td>1.0</td>\n",
       "      <td>1.0</td>\n",
       "      <td>1.0</td>\n",
       "      <td>-122.335200</td>\n",
       "      <td>47.60154</td>\n",
       "    </tr>\n",
       "  </tbody>\n",
       "</table>\n",
       "</div>"
      ],
      "text/plain": [
       "   DefaultData  CouncilDistrictCode  YearBuilt  NumberofBuildings  \\\n",
       "0          0.0                  4.0     1948.0                1.0   \n",
       "1          0.0                  6.0     2000.0                1.0   \n",
       "2          0.0                  2.0     1963.0                1.0   \n",
       "3          0.0                  7.0     1947.0                1.0   \n",
       "4          0.0                  7.0     1914.0                1.0   \n",
       "\n",
       "   NumberofFloors  PropertyGFAParking  PropertyGFABuilding(s)  \\\n",
       "0             1.0                 0.0                 22778.0   \n",
       "1             4.0             36528.0                 53472.0   \n",
       "2             1.0                 0.0                100386.0   \n",
       "3             2.0                 0.0                 22612.0   \n",
       "4             4.0                 0.0                 45500.0   \n",
       "\n",
       "   LargestPropertyUseTypeGFA  SecondLargestPropertyUseTypeGFA  \\\n",
       "0                    21194.0                          12923.0   \n",
       "1                    90000.0                          11737.0   \n",
       "2                    50628.0                          49758.0   \n",
       "3                    22612.0                          11737.0   \n",
       "4                    45500.0                          11737.0   \n",
       "\n",
       "   ThirdLargestPropertyUseTypeGFA  ENERGYSTARScore  SteamUse(kBtu)  \\\n",
       "0                          3720.0             72.0             0.0   \n",
       "1                          5837.0             84.0             0.0   \n",
       "2                          5837.0             72.0             0.0   \n",
       "3                          5837.0             87.0             0.0   \n",
       "4                          5837.0             77.0             1.0   \n",
       "\n",
       "   Electricity(kBtu)  NaturalGas(kBtu)   Longitude  Latitude  \n",
       "0                1.0               1.0 -122.276776  47.66811  \n",
       "1                1.0               0.0 -122.351580  47.64963  \n",
       "2                1.0               1.0 -122.327410  47.56819  \n",
       "3                1.0               1.0 -122.403200  47.63927  \n",
       "4                1.0               1.0 -122.335200  47.60154  "
      ]
     },
     "execution_count": 287,
     "metadata": {},
     "output_type": "execute_result"
    }
   ],
   "source": [
    "bunch_train.head()"
   ]
  },
  {
   "cell_type": "code",
   "execution_count": 288,
   "metadata": {},
   "outputs": [
    {
     "name": "stderr",
     "output_type": "stream",
     "text": [
      "C:\\Users\\namat\\Anaconda3\\lib\\site-packages\\ipykernel_launcher.py:8: SettingWithCopyWarning: \n",
      "A value is trying to be set on a copy of a slice from a DataFrame.\n",
      "Try using .loc[row_indexer,col_indexer] = value instead\n",
      "\n",
      "See the caveats in the documentation: http://pandas.pydata.org/pandas-docs/stable/indexing.html#indexing-view-versus-copy\n",
      "  \n",
      "C:\\Users\\namat\\Anaconda3\\lib\\site-packages\\ipykernel_launcher.py:16: SettingWithCopyWarning: \n",
      "A value is trying to be set on a copy of a slice from a DataFrame.\n",
      "Try using .loc[row_indexer,col_indexer] = value instead\n",
      "\n",
      "See the caveats in the documentation: http://pandas.pydata.org/pandas-docs/stable/indexing.html#indexing-view-versus-copy\n",
      "  app.launch_new_instance()\n"
     ]
    }
   ],
   "source": [
    "#Label encoder\n",
    "X_tr = X_train.copy()\n",
    "X_te = X_test.copy()\n",
    "\n",
    "label_encoder = LabelEncoder()\n",
    "\n",
    "for col in categorical_cols_label:\n",
    "    bunch_train[col] = label_encoder.fit_transform(X_tr[col])\n",
    "    lists_enc = list(label_encoder.classes_)\n",
    "    lists_enc_not = []\n",
    "    for i, row in X_te.iterrows():\n",
    "        val = X_te.loc[i, col] \n",
    "        if val not in lists_enc:\n",
    "            lists_enc_not.append(val)    \n",
    "    label_encoder.classes_ = np.array(lists_enc + lists_enc_not)\n",
    "    bunch_test[col] = label_encoder.transform(X_te[col])"
   ]
  },
  {
   "cell_type": "code",
   "execution_count": 289,
   "metadata": {},
   "outputs": [],
   "source": [
    "bars = {\"Linear regressor Ridge\" : [], \"SVM regressor\": [], \"Random Forest Regressor\": [],\n",
    "        \"Gradient Boosting Regressor\": [], \"Total moyen\": []}"
   ]
  },
  {
   "cell_type": "code",
   "execution_count": 290,
   "metadata": {},
   "outputs": [
    {
     "name": "stdout",
     "output_type": "stream",
     "text": [
      "Temps total d'execution : 2.5482187271118164 secondes\n",
      "RMSE : 1.0867896007410924\n"
     ]
    }
   ],
   "source": [
    "import time\n",
    "X_tr = bunch_train.join(X_train[categorical_cols_other])\n",
    "X_te = bunch_test.join(X_test[categorical_cols_other])\n",
    "\n",
    "#one hot encoding\n",
    "sum_error = 0\n",
    "errors = []\n",
    "start_time = time.time()\n",
    "i = 0\n",
    "for model in models:\n",
    "    my_pipeline = Pipeline(steps=[('encoder', OH_encoder), ('model', model)])\n",
    "    my_pipeline.fit(X_tr, y_train)\n",
    "    y_preds = my_pipeline.predict(X_te)\n",
    "    error = np.sqrt(metrics.mean_squared_error(y_test, y_preds))\n",
    "    errors.append(error)\n",
    "    sum_error += error\n",
    "    bars[model_names[i]].append(error)\n",
    "    i += 1\n",
    "error_encoding = sum_error/len(models)\n",
    "errors_encoding.append(error_encoding)\n",
    "print(\"Temps total d'execution : %s secondes\" % (time.time() - start_time))\n",
    "bars[\"Total moyen\"].append(error_encoding)\n",
    "print(\"RMSE : {}\".format(error_encoding))"
   ]
  },
  {
   "cell_type": "code",
   "execution_count": 291,
   "metadata": {},
   "outputs": [
    {
     "name": "stdout",
     "output_type": "stream",
     "text": [
      "Temps d'execution : 0.956475019454956 secondes\n",
      "RMSE : 1.1002203256353802\n"
     ]
    }
   ],
   "source": [
    "#Count encoding\n",
    "ixtr = X_train.copy()\n",
    "ixte = X_test.copy()\n",
    "bxtr = bunch_train.copy()\n",
    "bxte = bunch_test.copy()\n",
    "\n",
    "d = pd.concat([ixtr[categorical_cols_other],ixte[categorical_cols_other]], \n",
    "              axis=0, join='inner', ignore_index=True)#fusion des lignes des variables à encoder\n",
    "\n",
    "d2 = pd.concat([bxtr, bxte], axis=0, join='inner', ignore_index=True)#fusion des bunchs train et test\n",
    "\n",
    "start_time = time.time()\n",
    "count_encoded = CE_encoder.fit_transform(d[categorical_cols_other])\n",
    "\n",
    "data = d2.join(count_encoded.add_suffix(\"_count\")) \n",
    "\n",
    "X_tr = data[:SIZE]\n",
    "X_te = data[SIZE:]\n",
    "\n",
    "sum_error = 0\n",
    "errors = []\n",
    "i = 0\n",
    "for model in models:\n",
    "    model.fit(X_tr, y_train)\n",
    "    y_preds = model.predict(X_te)\n",
    "    error = np.sqrt(metrics.mean_squared_error(y_test, y_preds))\n",
    "    errors.append(error)\n",
    "    sum_error += error\n",
    "    bars[model_names[i]].append(error)\n",
    "    i += 1\n",
    "error_encoding = sum_error/len(models)\n",
    "errors_encoding.append(error_encoding)\n",
    "print(\"Temps d'execution : %s secondes\" % (time.time() - start_time))\n",
    "bars[\"Total moyen\"].append(error_encoding)\n",
    "print(\"RMSE : {}\".format(error_encoding))"
   ]
  },
  {
   "cell_type": "code",
   "execution_count": 292,
   "metadata": {},
   "outputs": [
    {
     "name": "stdout",
     "output_type": "stream",
     "text": [
      "Temps d'execution : 1.0561752319335938 secondes\n",
      "RMSE : 1.0502186180595765\n"
     ]
    }
   ],
   "source": [
    "#Target encoding\n",
    "ixtr = X_train.copy()\n",
    "ixte = X_test.copy()\n",
    "bxtr = bunch_train.copy()\n",
    "bxte = bunch_test.copy()\n",
    "\n",
    "start_time = time.time()\n",
    "\n",
    "TE_encoder.fit(ixtr[categorical_cols_other], y_train)\n",
    "\n",
    "X_tr = bxtr.join(TE_encoder.transform(ixtr[categorical_cols_other]).add_suffix('_target'))\n",
    "X_te = bxte.join(TE_encoder.transform(ixte[categorical_cols_other]).add_suffix('_target'))\n",
    "\n",
    "#print(target_encoded_train)\n",
    "sum_error = 0\n",
    "errors = []\n",
    "i = 0\n",
    "for model in models:\n",
    "    model.fit(X_tr, y_train)\n",
    "    y_preds = model.predict(X_te)\n",
    "    error = np.sqrt(metrics.mean_squared_error(y_test, y_preds))\n",
    "    errors.append(error)\n",
    "    sum_error += error\n",
    "    bars[model_names[i]].append(error)\n",
    "    i += 1\n",
    "error_encoding = sum_error/len(models)\n",
    "errors_encoding.append(error_encoding)\n",
    "print(\"Temps d'execution : %s secondes\" % (time.time() - start_time))\n",
    "bars[\"Total moyen\"].append(error_encoding)\n",
    "print(\"RMSE : {}\".format(error_encoding))"
   ]
  },
  {
   "cell_type": "code",
   "execution_count": 293,
   "metadata": {},
   "outputs": [
    {
     "name": "stdout",
     "output_type": "stream",
     "text": [
      "Temps d execution : 1.1587717533111572 secondes\n",
      "RMSE : 1.0386760721625379\n"
     ]
    }
   ],
   "source": [
    "#CatBoost encoding\n",
    "ixtr = X_train.copy()\n",
    "ixte = X_test.copy()\n",
    "bxtr = bunch_train.copy()\n",
    "bxte = bunch_test.copy()\n",
    "\n",
    "start_time = time.time()\n",
    "\n",
    "CatB_encode.fit(ixtr[categorical_cols_other], y_train)\n",
    "X_tr = bxtr.join(CatB_encode.transform(ixtr[categorical_cols_other]).add_suffix('_CB'))\n",
    "X_te = bxte.join(CatB_encode.transform(ixte[categorical_cols_other]).add_suffix('_CB'))\n",
    "\n",
    "sum_error = 0\n",
    "errors = []\n",
    "i = 0\n",
    "for model in models:\n",
    "    model.fit(X_tr, y_train)\n",
    "    y_preds = model.predict(X_te)\n",
    "    error = np.sqrt(metrics.mean_squared_error(y_test, y_preds))\n",
    "    errors.append(error)\n",
    "    sum_error += error\n",
    "    bars[model_names[i]].append(error)\n",
    "    i += 1\n",
    "error_encoding = sum_error/len(models)\n",
    "errors_encoding.append(error_encoding)\n",
    "print(\"Temps d execution : %s secondes\" % (time.time() - start_time))\n",
    "bars[\"Total moyen\"].append(error_encoding)\n",
    "print(\"RMSE : {}\".format(error_encoding))"
   ]
  },
  {
   "cell_type": "code",
   "execution_count": 294,
   "metadata": {},
   "outputs": [
    {
     "data": {
      "image/png": "[encoded data removed]",
      "text/plain": [
       "<Figure size 1008x432 with 1 Axes>"
      ]
     },
     "metadata": {},
     "output_type": "display_data"
    }
   ],
   "source": [
    "fig, ax = plt.subplots(figsize=(14, 6))\n",
    "barWidth = 0.15\n",
    "r1 = np.arange(4)\n",
    "r2 = [x + barWidth for x in r1]\n",
    "r3 = [x + barWidth for x in r2]\n",
    "r4 = [x + barWidth for x in r3]\n",
    "r5 = [x + barWidth for x in r4]\n",
    "\n",
    "rects1 = ax.bar(r1, bars[model_names[0]], color=\"#2F4F4F\", width=barWidth, edgecolor='white', label=\"Ridge\")\n",
    "rects2 = ax.bar(r2, bars[model_names[1]], color='#C0C0C0', width=barWidth, edgecolor='white', label=\"SVM\")\n",
    "rects3 = ax.bar(r3, bars[model_names[2]], color='#778899', width=barWidth, edgecolor='white', label=\"R.Forest\")\n",
    "rects4 = ax.bar(r4, bars[model_names[3]], color='#808080', width=barWidth, edgecolor='white', label=\"G.Boosting\")\n",
    "rects5 = ax.bar(r5, bars[\"Total moyen\"], color='red', width=barWidth, edgecolor='white', label=\"Total moyen\")\n",
    "\n",
    "\n",
    "# Add xticks on the middle of the group bars\n",
    "ax.set_xlabel('Encodage', fontweight='bold')\n",
    "ax.set_ylabel('RMSE', fontweight='bold')\n",
    "ax.set_xticks([r + barWidth*2 for r in range(5)])\n",
    "ax.set_xticklabels(['One hot encoding', 'Count encoding', 'Target encoding', 'CatBoost encoding'])\n",
    " \n",
    "# Create legend & Show graphic\n",
    "ax.legend()\n",
    "\n",
    "def autolabel(rects):\n",
    "    \"\"\"Attach a text label above each bar in *rects*, displaying its height.\"\"\"\n",
    "    for rect in rects:\n",
    "        height = rect.get_height()\n",
    "        ax.annotate('%.2f'%height,\n",
    "                    xy=(rect.get_x() + rect.get_width() / 2, height),\n",
    "                    xytext=(0, 3),  # 3 points vertical offset\n",
    "                    textcoords=\"offset points\",\n",
    "                    ha='center', va='bottom')\n",
    "autolabel(rects1)\n",
    "autolabel(rects2)\n",
    "autolabel(rects3)\n",
    "autolabel(rects4)\n",
    "autolabel(rects5)\n",
    "\n",
    "plt.show()"
   ]
  },
  {
   "cell_type": "code",
   "execution_count": 295,
   "metadata": {},
   "outputs": [],
   "source": [
    "#ajout le meilleur encodage\n",
    "X_tr = X_train.copy()[categorical_cols_other]\n",
    "X_te = X_test.copy()[categorical_cols_other]\n",
    "\n",
    "CatB_encode.fit(X_tr, y_train)\n",
    "bunch_train = bunch_train.join(CatB_encode.transform(ixtr[categorical_cols_other]).add_suffix('_CB'))\n",
    "bunch_test = bunch_test.join(CatB_encode.transform(X_te).add_suffix('_CB'))"
   ]
  },
  {
   "cell_type": "code",
   "execution_count": 296,
   "metadata": {},
   "outputs": [
    {
     "data": {
      "text/plain": [
       "(2654, 28)"
      ]
     },
     "execution_count": 296,
     "metadata": {},
     "output_type": "execute_result"
    }
   ],
   "source": [
    "bunch_train.shape"
   ]
  },
  {
   "cell_type": "code",
   "execution_count": 297,
   "metadata": {},
   "outputs": [
    {
     "name": "stdout",
     "output_type": "stream",
     "text": [
      "RMSE Mean DummyRegressor: 1.67, runtime: 0.00s\n",
      "RMSE Median DummyRegressor: 1.68, runtime: 0.00s\n"
     ]
    }
   ],
   "source": [
    "X_train = bunch_train.copy()\n",
    "X_test =  bunch_test.copy()\n",
    "\n",
    "#definir les modèles baselines\n",
    "start_time = time.time()\n",
    "dum_mean = dummy.DummyRegressor(strategy='mean')\n",
    "my_pipeline = Pipeline(steps=[('preprocessor', std), ('model', dum_mean)])\n",
    "my_pipeline.fit(X_train, y_train)\n",
    "y_pred_mean = my_pipeline.predict(X_test)\n",
    "rmse_mean = np.sqrt(metrics.mean_squared_error(y_test, y_pred_mean))\n",
    "time_mean = time.time() - start_time\n",
    "\n",
    "start_time = time.time()\n",
    "dum_median = dummy.DummyRegressor(strategy='median')\n",
    "my_pipeline2 = Pipeline(steps=[('preprocessor', std), ('model', dum_median)])\n",
    "my_pipeline2.fit(X_train, y_train)\n",
    "y_pred_median = my_pipeline2.predict(X_test)\n",
    "rmse_median = np.sqrt(metrics.mean_squared_error(y_test, y_pred_median))\n",
    "time_median = time.time() - start_time\n",
    "\n",
    "print(\"RMSE Mean DummyRegressor: %.2f, runtime: %.2fs\" % (rmse_mean, time_mean))\n",
    "print(\"RMSE Median DummyRegressor: %.2f, runtime: %.2fs\" % (rmse_median, time_median))"
   ]
  },
  {
   "cell_type": "code",
   "execution_count": 301,
   "metadata": {},
   "outputs": [
    {
     "name": "stdout",
     "output_type": "stream",
     "text": [
      "RMSE Linear Regression ridge: 0.97, runtime: 0.16s\n",
      "Best params : {'alpha': 100.0}\n"
     ]
    }
   ],
   "source": [
    "X_train = bunch_train.copy()\n",
    "X_test =  bunch_test.copy()\n",
    "\n",
    "start_time = time.time()\n",
    "param_grid_ridge = {'alpha':np.logspace(-2, 2, 10)}\n",
    "lr = linear_model.Ridge()#linear regression ridge\n",
    "grid_pred_ridge = model_selection.GridSearchCV(lr, param_grid_ridge, cv=5)\n",
    "\n",
    "my_pipeline3 = Pipeline(steps=[('preprocessor', std), ('model', grid_pred_ridge)])\n",
    "\n",
    "my_pipeline3.fit(X_train, y_train)\n",
    "\n",
    "y_pred_linear = my_pipeline3.predict(X_test)\n",
    "\n",
    "rmse_lr = np.sqrt(metrics.mean_squared_error(y_test, y_pred_linear))\n",
    "time_lr = time.time() - start_time\n",
    "\n",
    "#récupération des paramètres\n",
    "lrp = grid_pred_ridge.best_params_[\"alpha\"]\n",
    "\n",
    "print(\"RMSE Linear Regression ridge: %.2f, runtime: %.2fs\" % (rmse_lr, time_lr))\n",
    "print(\"Best params : {}\".format(grid_pred_ridge.best_params_))"
   ]
  },
  {
   "cell_type": "code",
   "execution_count": 307,
   "metadata": {},
   "outputs": [
    {
     "name": "stdout",
     "output_type": "stream",
     "text": [
      "RMSE Random Forest: 0.63, runtime: 240.11s\n",
      "Best params : {'max_depth': 13, 'n_estimators': 100}\n"
     ]
    }
   ],
   "source": [
    "X_train = bunch_train.copy()\n",
    "X_test = bunch_test.copy()\n",
    "\n",
    "start_time = time.time()\n",
    "param_grid_rd = {'max_depth' : np.arange(12,14), 'n_estimators' : np.arange(100, 1200, 500)}\n",
    "rf = RandomForestRegressor(random_state=0)#random Forest regressor\n",
    "grid_pred_rf = model_selection.GridSearchCV(rf, param_grid_rd, cv=5)\n",
    "\n",
    "my_pipeline4 = Pipeline(steps=[('preprocessor', std), ('model', grid_pred_rf)])\n",
    "\n",
    "my_pipeline4.fit(X_train, y_train)\n",
    "\n",
    "y_pred_rf = my_pipeline4.predict(X_test)\n",
    "\n",
    "rmse_rf = np.sqrt(metrics.mean_squared_error(y_test, y_pred_rf))\n",
    "time_rf = time.time() - start_time\n",
    "\n",
    "#récupération des paramètres\n",
    "rfparam1 = grid_pred_rf.best_params_[\"max_depth\"]\n",
    "rfparam2 = grid_pred_rf.best_params_[\"n_estimators\"]\n",
    "\n",
    "print(\"RMSE Random Forest: %.2f, runtime: %.2fs\" % (rmse_rf, time_rf))\n",
    "print(\"Best params : {}\".format(grid_pred_rf.best_params_))"
   ]
  },
  {
   "cell_type": "code",
   "execution_count": 313,
   "metadata": {},
   "outputs": [
    {
     "name": "stdout",
     "output_type": "stream",
     "text": [
      "RMSE Gradient Boosting: 1.22, runtime: 464s\n",
      "Best params : {'learning_rate': 0.05, 'max_depth': 3, 'n_estimators': 3000}\n"
     ]
    }
   ],
   "source": [
    "X_train = bunch_train.copy()\n",
    "X_test =  bunch_test.copy()\n",
    "\n",
    "start_time = time.time()\n",
    "param_grid_gb ={'n_estimators': np.arange(2000, 4500, 500), 'max_depth' : np.arange(2,5), \"learning_rate\" : [0.05]}\n",
    "gb = GradientBoostingRegressor(loss='ls')#Gradient boosting regressor\n",
    "grid_pred_gb = model_selection.GridSearchCV(gb, param_grid_gb, cv=5)\n",
    "\n",
    "my_pipeline5 = Pipeline(steps=[('preprocessor', std), ('model', grid_pred_gb)])\n",
    "\n",
    "my_pipeline5.fit(X_train, y_train)\n",
    "\n",
    "y_pred_gb = my_pipeline5.predict(X_test)\n",
    "\n",
    "rmse_gb = np.sqrt(metrics.mean_squared_error(y_test, y_pred_gb))\n",
    "time_gb = time.time() - start_time\n",
    "\n",
    "#récupération des paramètres\n",
    "gbparam1 = grid_pred_gb.best_params_[\"n_estimators\"]\n",
    "gbparam2 = grid_pred_gb.best_params_[\"max_depth\"]\n",
    "gbparam3 = grid_pred_gb.best_params_[\"learning_rate\"]\n",
    "\n",
    "print(\"RMSE Gradient Boosting: %.2f, runtime: %2.fs\" % (rmse_gb, time_gb))\n",
    "print(\"Best params : {}\".format(grid_pred_gb.best_params_))"
   ]
  },
  {
   "cell_type": "code",
   "execution_count": 317,
   "metadata": {},
   "outputs": [
    {
     "name": "stdout",
     "output_type": "stream",
     "text": [
      "RMSE SVM Regressor: 0.86, runtime: 94s\n",
      "Best params : {'C': 100.0, 'gamma': 0.01}\n"
     ]
    }
   ],
   "source": [
    "X_train = bunch_train.copy()\n",
    "X_test =  bunch_test.copy()\n",
    "\n",
    "start_time = time.time()\n",
    "param_grid_svm ={'C' : [1e0, 1e1, 1e2, 1e3], 'gamma': np.logspace(-2, 2, 5)}\n",
    "svm = SVR(kernel=\"rbf\")#SVM regressor\n",
    "grid_pred_svm = model_selection.GridSearchCV(svm, param_grid_svm, cv=5)\n",
    "\n",
    "my_pipeline6 = Pipeline(steps=[('preprocessor', std), ('model', grid_pred_svm)])\n",
    "\n",
    "my_pipeline6.fit(X_train, y_train)\n",
    "\n",
    "y_pred_svm = my_pipeline6.predict(X_test)\n",
    "\n",
    "rmse_svm = np.sqrt(metrics.mean_squared_error(y_test, y_pred_svm))\n",
    "time_svm = time.time() - start_time\n",
    "\n",
    "#récupération des paramètres\n",
    "svmparam1 = grid_pred_svm.best_params_[\"C\"]\n",
    "svmparam2 = grid_pred_svm.best_params_[\"gamma\"]\n",
    "\n",
    "print(\"RMSE SVM Regressor: %.2f, runtime: %2.fs\" % (rmse_svm, time_svm))\n",
    "print(\"Best params : {}\".format(grid_pred_svm.best_params_))"
   ]
  },
  {
   "cell_type": "code",
   "execution_count": 318,
   "metadata": {},
   "outputs": [
    {
     "data": {
      "image/png": "[encoded data removed]",
      "text/plain": [
       "<Figure size 720x288 with 1 Axes>"
      ]
     },
     "metadata": {},
     "output_type": "display_data"
    }
   ],
   "source": [
    "names = [\"dummy mean\", \"dummy median\", \"linear ridge\", \"random forest\", \"gradient boosting\", \"svm\"]\n",
    "values = [rmse_mean, rmse_median, rmse_lr, rmse_rf, rmse_gb, rmse_svm]\n",
    "\n",
    "indices = np.argsort(values)[::-1]\n",
    "x = []\n",
    "y = []\n",
    "for i in indices:\n",
    "    x.append(values[i])\n",
    "    y.append(names[i])\n",
    "    \n",
    "fig, ax = plt.subplots(figsize=(10, 4))    \n",
    "width = 0.50 # the width of the bars \n",
    "ind = np.arange(len(x))  # the x locations for the groups\n",
    "ax.barh(ind, x, width)\n",
    "ax.set_yticks(ind)\n",
    "ax.set_yticklabels(y, minor=False)\n",
    "plt.title('Performances des différents modèles')\n",
    "plt.xlabel(\"RMSE\")\n",
    "for i, v in enumerate(x):\n",
    "    ax.text(v, i-.1, str(round(v,2)))"
   ]
  },
  {
   "cell_type": "code",
   "execution_count": 320,
   "metadata": {},
   "outputs": [
    {
     "name": "stdout",
     "output_type": "stream",
     "text": [
      "Runtime Mean DummyRegressor : 0.0009989738464355469 s\n",
      "Runtime Median DummyRegressor : 0.0009961128234863281 s\n",
      "Runtime Linear Regression ridge : 0.0029671192169189453 s\n",
      "Runtime Random Forest : 0.32715535163879395 s\n",
      "Runtime Gradient Boosting : 7.110992670059204 s\n",
      "Runtime SVM Regressor : 0.8028693199157715 s\n"
     ]
    },
    {
     "data": {
      "image/png": "[encoded data removed]",
      "text/plain": [
       "<Figure size 432x288 with 1 Axes>"
      ]
     },
     "metadata": {},
     "output_type": "display_data"
    }
   ],
   "source": [
    "X_train = bunch_train.copy()\n",
    "X_test =  bunch_test.copy()\n",
    "\n",
    "start_time = time.time()\n",
    "dum_mean = dummy.DummyRegressor(strategy='mean')\n",
    "dum_mean.fit(X_train, y_train)\n",
    "y_pred_mean = dum_mean.predict(X_test)\n",
    "time_mean = time.time() - start_time\n",
    "rmse_mean = np.sqrt(metrics.mean_squared_error(y_test, y_pred_mean))\n",
    "print(\"Runtime Mean DummyRegressor : {} s\".format(time_mean, rmse_mean))\n",
    "\n",
    "start_time = time.time()\n",
    "dum_median = dummy.DummyRegressor(strategy='median')\n",
    "dum_median.fit(X_train, y_train)\n",
    "y_pred_median = dum_median.predict(X_test)\n",
    "time_median = time.time() - start_time\n",
    "rmse_median = np.sqrt(metrics.mean_squared_error(y_test, y_pred_median))\n",
    "print(\"Runtime Median DummyRegressor : {} s\".format(time_median, rmse_median))\n",
    "\n",
    "start_time = time.time()\n",
    "lr = linear_model.Ridge(alpha=lrp).fit(X_train, y_train)\n",
    "y_pred_linear = lr.predict(X_test)\n",
    "time_lr = time.time() - start_time\n",
    "rmse_lr = np.sqrt(metrics.mean_squared_error(y_test, y_pred_linear))\n",
    "print(\"Runtime Linear Regression ridge : {} s\".format(time_lr, rmse_lr))\n",
    "\n",
    "start_time = time.time()\n",
    "rf = RandomForestRegressor(n_estimators=rfparam1, max_depth=rfparam2,  random_state=0).fit(X_train, y_train)\n",
    "y_pred_rf = rf.predict(X_test)\n",
    "time_rf = time.time() - start_time\n",
    "rmse_rf = np.sqrt(metrics.mean_squared_error(y_test, y_pred_rf))\n",
    "print(\"Runtime Random Forest : {} s\".format(time_rf, rmse_rf))\n",
    "\n",
    "start_time = time.time()\n",
    "gbr = GradientBoostingRegressor(n_estimators = gbparam1, max_depth=gbparam2, learning_rate=gbparam3,\n",
    "                                loss='ls').fit(X_train, y_train)\n",
    "y_pred_gb = gbr.predict(X_test)\n",
    "time_gb = time.time() - start_time\n",
    "rmse_gb = np.sqrt(metrics.mean_squared_error(y_test, y_pred_gb))\n",
    "print(\"Runtime Gradient Boosting : {} s\".format(time_gb, rmse_gb))\n",
    "\n",
    "start_time = time.time()\n",
    "svm = SVR(kernel=\"rbf\", C=svmparam1, gamma=svmparam2).fit(X_train, y_train)\n",
    "y_pred_svm = svm.predict(X_test)\n",
    "time_svm = time.time() - start_time\n",
    "rmse_svm = np.sqrt(metrics.mean_squared_error(y_test, y_pred_svm))\n",
    "print(\"Runtime SVM Regressor : {} s\".format(time_svm, rmse_svm))\n",
    "\n",
    "names = [\"dummy mean\", \"dummy median\", \"linear ridge\", \"random forest\", \"gradient boosting\", \"svm\"]\n",
    "values = [time_mean, time_median, time_lr, time_rf, time_gb, time_svm]\n",
    "\n",
    "indices = np.argsort(values)[::-1]\n",
    "x = []\n",
    "y = []\n",
    "for i in indices:\n",
    "    x.append(values[i])\n",
    "    y.append(names[i])\n",
    "\n",
    "plt.xlabel(\"temps d'éxécution en seconde\")\n",
    "plt.barh(y, x)\n",
    "plt.show()"
   ]
  },
  {
   "cell_type": "code",
   "execution_count": 322,
   "metadata": {},
   "outputs": [
    {
     "name": "stdout",
     "output_type": "stream",
     "text": [
      "Feature ranking:\n",
      "1. feature:ComplianceStatus_CB (0.339715)\n",
      "2. feature:PropertyGFABuilding(s) (0.303867)\n",
      "3. feature:PrimaryPropertyType_CB (0.080504)\n",
      "4. feature:Electricity(kBtu) (0.063953)\n",
      "5. feature:LargestPropertyUseTypeGFA (0.049329)\n",
      "6. feature:ENERGYSTARScore (0.036161)\n",
      "7. feature:YearBuilt (0.014863)\n",
      "8. feature:NaturalGas(kBtu) (0.013220)\n",
      "9. feature:Longitude (0.011257)\n",
      "10. feature:PropertyName (0.009598)\n",
      "11. feature:LargestPropertyUseType (0.009034)\n",
      "12. feature:ListOfAllPropertyUseTypes (0.008614)\n",
      "13. feature:Address (0.008239)\n",
      "14. feature:SecondLargestPropertyUseTypeGFA (0.008147)\n",
      "15. feature:Latitude (0.006952)\n"
     ]
    },
    {
     "data": {
      "text/plain": [
       "<BarContainer object of 15 artists>"
      ]
     },
     "execution_count": 322,
     "metadata": {},
     "output_type": "execute_result"
    },
    {
     "data": {
      "image/png": "[encoded data removed]",
      "text/plain": [
       "<Figure size 720x288 with 1 Axes>"
      ]
     },
     "metadata": {},
     "output_type": "display_data"
    }
   ],
   "source": [
    "#importance des features\n",
    "X_train = bunch_train.copy()\n",
    "X_test =  bunch_test.copy()\n",
    "\n",
    "rf = RandomForestRegressor(n_estimators=rfparam1, max_depth=rfparam2,  random_state=0).fit(X_train, y_train)\n",
    "\n",
    "feature_importances = rf.feature_importances_\n",
    "\n",
    "indices = np.argsort(feature_importances)[-15:]\n",
    "\n",
    "# Print the feature ranking\n",
    "print(\"Feature ranking:\")\n",
    "j = 1\n",
    "x = []\n",
    "y = []\n",
    "for i in reversed(list(indices)):\n",
    "    x.append(list(X_train.columns)[i])\n",
    "    y.append(feature_importances[i])\n",
    "    print(\"%d. feature:%s (%f)\" % (j, list(X_train.columns)[i], feature_importances[i]))\n",
    "    j += 1\n",
    "\n",
    "x.reverse()\n",
    "y.reverse()\n",
    "plt.figure(figsize=(10, 4))\n",
    "plt.xticks(rotation=90)\n",
    "plt.title(\"Feature importances\")\n",
    "plt.barh(x, y, color=\"r\", align='center')"
   ]
  },
  {
   "cell_type": "code",
   "execution_count": 324,
   "metadata": {},
   "outputs": [
    {
     "data": {
      "image/png": "[encoded data removed]",
      "text/plain": [
       "<Figure size 720x360 with 1 Axes>"
      ]
     },
     "metadata": {},
     "output_type": "display_data"
    }
   ],
   "source": [
    "#Courbe d'apprentissage\n",
    "X_train = bunch_train.copy()\n",
    "X_test =  bunch_test.copy()\n",
    "#bunch = pd.concat([bunch_train, bunch_test], axis=0, join='inner', ignore_index=True)\n",
    "#y = df[\"SiteEnergyUse(kBtu)\"]\n",
    "\n",
    "lr = linear_model.Ridge(alpha=lrp)\n",
    "rf = RandomForestRegressor(n_estimators=rfparam1, max_depth=rfparam2,  random_state=0)\n",
    "gbr = GradientBoostingRegressor(n_estimators = gbparam1, max_depth=gbparam2, learning_rate=gbparam3,\n",
    "                                loss='ls')\n",
    "svm = SVR(kernel=\"rbf\", C=svmparam1, gamma=svmparam2)\n",
    "\n",
    "train_sizes, train_scores_gbr, test_scores_gbr =  learning_curve(gbr, X_train, y_train, train_sizes=np.linspace(0.1, 1, 5), \n",
    "                                                                 scoring=\"neg_mean_squared_error\", cv=5)\n",
    "train_sizes_svm, train_scores_svm, test_scores_svm =  learning_curve(svm, X_train, y_train, train_sizes=np.linspace(0.1, 1, 5), \n",
    "                                                                 scoring=\"neg_mean_squared_error\", cv=5)\n",
    "train_sizes_lr, train_scores_lr, test_scores_lr =  learning_curve(lr, X_train, y_train, train_sizes=np.linspace(0.1, 1, 5), \n",
    "                                                                 scoring=\"neg_mean_squared_error\", cv=5)\n",
    "train_sizes_rf, train_scores_rf, test_scores_rf =  learning_curve(rf, X_train, y_train, train_sizes=np.linspace(0.1, 1, 5), \n",
    "                                                                 scoring=\"neg_mean_squared_error\", cv=5)\n",
    "\n",
    "scores_gbr = np.sqrt(-test_scores_gbr.mean(1))\n",
    "scores_svm = np.sqrt(-test_scores_svm.mean(1))\n",
    "scores_lr = np.sqrt(-test_scores_lr.mean(1))\n",
    "scores_rf = np.sqrt(-test_scores_rf.mean(1))\n",
    "\n",
    "plt.figure(figsize=(10, 5))\n",
    "plt.plot(train_sizes, scores_gbr, 'o-', color=\"r\", label=\"Gradient\")\n",
    "plt.plot(train_sizes, scores_svm, 'o-', color=\"g\", label=\"SVM\")\n",
    "plt.plot(train_sizes, scores_lr, 'o-', color=\"b\", label=\"Ridge\")\n",
    "plt.plot(train_sizes, scores_rf, 'o-', color=\"y\", label=\"Forest\")\n",
    "\n",
    "#scores = np.sqrt(-train_scores_gbr.mean(1))\n",
    "#plt.plot(train_sizes, scores, 'o-', color=\"g\")\n",
    "plt.xlabel(\"Train size\")\n",
    "plt.ylabel(\"Sqrt Mean Squared Error\")\n",
    "plt.title('Courbe apprentissage')\n",
    "plt.legend(loc=\"best\")\n",
    "\n",
    "plt.show()"
   ]
  },
  {
   "cell_type": "code",
   "execution_count": null,
   "metadata": {},
   "outputs": [],
   "source": []
  }
 ],
 "metadata": {
  "kernelspec": {
   "display_name": "Python 3",
   "language": "python",
   "name": "python3"
  },
  "language_info": {
   "codemirror_mode": {
    "name": "ipython",
    "version": 3
   },
   "file_extension": ".py",
   "mimetype": "text/x-python",
   "name": "python",
   "nbconvert_exporter": "python",
   "pygments_lexer": "ipython3",
   "version": "3.7.3"
  }
 },
 "nbformat": 4,
 "nbformat_minor": 2
}
